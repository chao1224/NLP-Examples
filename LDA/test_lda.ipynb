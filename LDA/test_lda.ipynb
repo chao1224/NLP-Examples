{
 "cells": [
  {
   "cell_type": "code",
   "execution_count": 1,
   "metadata": {
    "collapsed": true
   },
   "outputs": [],
   "source": [
    "import lda\n",
    "import numpy as np"
   ]
  },
  {
   "cell_type": "markdown",
   "metadata": {},
   "source": [
    "## Algorithm\n",
    "\n",
    "使用LDA进行文本生成的过程：\n",
    "\n",
    "写M篇文章，一共涉及了K个主题，每一个topic下的词部分为一个$\\beta$的Dirichlet先验分布中sample出来的Multinomial分布。\n",
    "\n",
    "对于每一篇文章，会从一个泊松分布中sample一个长度作为文章的长度，再从一个参数为$\\alpha$的Dirichlet先验分布中sample出一个Multinomial分布作为该文章在每一个topic下词的概率。\n",
    "\n",
    "当想写某一篇文章中的第n个词的时候，首先从该文章中出现每一个Topic的Multinomial分布中sample一个Topic，然后再在这个Topic对应当词的Multinomial分布中sample一个词，作为要填写的词。\n",
    "\n",
    "```\n",
    "# Topic plate\n",
    "for all topics $k \\in [1,K]$:\n",
    "    sample mixture components $\\phi_k \\sim Dir(\\beta)$\n",
    "# Document plate\n",
    "for all documents $m \\in [1,M]$:\n",
    "    sample mixture proportion $\\theta_m \\sim Dir(\\alpha)$\n",
    "    sample document length $N_m \\sim Poiss(\\zeta)$\n",
    "    # Word plate\n",
    "    for all words in $n \\in [1,N_m]$ in document m do:\n",
    "        sample topic index $z_{m,n} \\sim Mult(\\theta_m)$\n",
    "        sample term for word $w_{m,n} \\sim Multi(\\phi_{m,n})$\n",
    "```"
   ]
  },
  {
   "cell_type": "code",
   "execution_count": 2,
   "metadata": {
    "collapsed": false
   },
   "outputs": [],
   "source": [
    "X = lda.datasets.load_reuters()\n",
    "vocab = lda.datasets.load_reuters_vocab()\n",
    "titles = lda.datasets.load_reuters_titles()"
   ]
  },
  {
   "cell_type": "code",
   "execution_count": 3,
   "metadata": {
    "collapsed": false
   },
   "outputs": [
    {
     "name": "stdout",
     "output_type": "stream",
     "text": [
      "(395, 4258)\n"
     ]
    }
   ],
   "source": [
    "print X.shape"
   ]
  },
  {
   "cell_type": "code",
   "execution_count": 4,
   "metadata": {
    "collapsed": false
   },
   "outputs": [
    {
     "data": {
      "text/plain": [
       "array([[1, 0, 1, ..., 0, 0, 0],\n",
       "       [7, 0, 2, ..., 0, 0, 0],\n",
       "       [0, 0, 0, ..., 0, 0, 0],\n",
       "       ..., \n",
       "       [1, 0, 1, ..., 0, 0, 0],\n",
       "       [1, 0, 1, ..., 0, 0, 0],\n",
       "       [1, 0, 1, ..., 0, 0, 0]], dtype=int32)"
      ]
     },
     "execution_count": 4,
     "metadata": {},
     "output_type": "execute_result"
    }
   ],
   "source": [
    "X"
   ]
  },
  {
   "cell_type": "code",
   "execution_count": 75,
   "metadata": {
    "collapsed": false
   },
   "outputs": [
    {
     "name": "stdout",
     "output_type": "stream",
     "text": [
      "('church', 'pope', 'years', 'people', 'mother', 'last', 'told', 'first', 'world', 'year', 'president', 'teresa', 'charles', 'catholic', 'during', 'life', 'u.s', 'city', 'public', 'time', 'since', 'family', 'king', 'former', 'british', 'harriman', 'against', 'country', 'vatican', 'made', 'three', 'hospital', 'minister', 'home', 'died', 'tuesday', 'government', \"n't\", 'million', 'prince', 'john', 'very', 'war', 'say', 'order', 'day', 'political', 'leader', 'heart', 'roman', 'yeltsin', 'later', 'france', 'party', 'monday', 'death', 'clinton', 'sunday', 'elvis', 'state', 'diana', 'royal', 'wednesday', 'churchill', 'official', 'service', 'including', 'film', 'while', 'week', 'left', 'work', 'paris', 'around', 'american', 'saying', 'take', 'doctors', 'group', 'son', 'queen', 'house', 'police', 'national', 'under', 'surgery', 'next', 'peace', 'paul', 'long', 'ceremony', 'month', 'thursday', 'french', 'head', 'marriage', 'operation', 'visit', 'show', 'germany', 'russian', 'days', 'love', 'news', 'ago', 'became', 'own', 'spokesman', 'says', 'television', 'never', 'mass', 'friday', 'bishop', 'held', 'members', 'prime', 'called', 'off', 'father', 'century', 'whose', 'south', 'health', 'parker', 'four', 'bowles', 'cardinal', 'officials', 'united', 'among', 'britain', 'newspaper', 'funeral', 'camilla', 'russia', 'age', 'several', 'statement', 'religious', 'private', 'media', 'added', 'women', 'reporters', 'until', 'ambassador', 'part', 'great', 'east', 'known', 'children', 'wife', 'late', 'few', 'took', 'good', 'married', 'woman', 'german', 'times', '1992', 'set', 'trip', 'union', 'leaders', 'bernardin', 'international', 'won', 'come', 'taken', 'england', 'place', 'become', 'princess', 'rights', 'rome', 'saturday', 'end', 'both', 'asked', 'charity', 'michael', 'expected', 'prize', 'second', 'born', 'past', 'local', 'throne', 'white', 'percent', 'christian', 'reuters', 'led', 'us', 'reports', 'states', 'catholics', 'pontiff', 'election', 'director', 'york', 'found', 'earlier', 'outside', 'london', 'foreign', 'go', 'give', 'used', 'want', 'nuns', 'sister', 'senior', 'court', 'major', 'know', 'music', 'law', 'help', 'came', 'right', 'thousands', 'kremlin', 'simpson', 'husband', 'close', 'old', 'conference', 'think', 'role', 'five', 'put', 'nobel', 'live', 'gave', 'art', 'town', 'winston', 'went', 'campaign', 'although', 'support', 'calcutta', 'fans', 'italian', 'men', 'washington', 'moscow', 'without', 'couple', 'member', 'missionaries', 'top', 'every', 'capital', 'best', 'might', 'miami', 'orthodox', 'wrote', 'once', 'versace', 'power', 'history', 'body', 'plans', 'away', 'god', 'third', 'recent', 'problems', 'seen', 'churches', 'early', 'palace', 'mark', 'office', 'cunanan', 'divorce', 'met', 'suffering', 'parliament', 'poland', 'nation', 'together', 'six', 'communist', 'award', 'began', 'successor', 'friends', 'book', 'priest', 'peter', 'again', 'west', 'return', 'wanted', '1994', 'economic', 'birthday', 'exhibition', 'personal', 'europe', 'soviet', 'letter', 'ill', 'museum', 'condition', 'disease', 'india', 'hope', 'secret', 'festival', 'quoted', 'wright', 'bill', 'human', 'poor', 'night', 'romania', '50', 'spent', 'june', 'groups', 'general', 'himself', 'months', 'kept', 'chief', 'announced', 'appeared', 'future', 'nazi', 'despite', 'friend', 'far', 'whether', 'pamela', 'bishops', 'popular', 'marry', 'relationship', 'denied', 'series', '1993', 'name', 'hand', 'divorced', 'archbishop', 'same', 'daughter', 'often', 'countries', 'across', 'southern', 'security', 'small', 'culture', 'october', 'appendix', 'christmas', 'little', 'sent', 'cancer', 'big', 'hours', 'brought', 'interview', 'nun', '1981', 'following', 'stay', 'special', 'meeting', 'centre', 'young', 'jews', 'buried', 'reported', 'daily', 'presidential', 'community', 'received', 'near', 'tour', 'published', 'black', 'opinion', 'believe', 'child', 'helped', 'air', 'anniversary', 'magazine', 'chicago', 'given', 'illness', 'cathedral', 'lead', 'weeks', 'conservative', 'brother', 'medical', 'going', 'leading', 'star', 'full', '10', 'opposition', 'cultural', 'money', 'ended', 'does', 'july', 'square', 'yet', 'letters', 'kennedy', 'plan', 'america', 'open', 'army', 'sale', 'north', 'today', 'duke', 'killed', 'democratic', 'timor', '20', 'european', 'due', 'planned', 'mayor', 'already', 'english', 'according', 'hundreds', 'university', 'taking', 'along', 'politics', 'nearly', 'high', 'remains', 'famous', 'evening', 'september', 'affair', 'attended', 'social', 'actor', 'spokeswoman', 'italy', 'lives', 'crowd', 'include', 'vote', 'living', 'polish', 'case', 'concert', 'issue', 'november', 'recently', 'figure', 'others', 'society', 'main', 'less', '1995', 'press', \"'m\", 'central', 'wedding', 'school', 'team', 'ever', 'happy', 'navarro-valls', 'described', 'organisation', 'always', 'radio', 'returned', 'civil', 'clear', 'whom', 'william', 'start', 'stars', 'belo', 'wants', 'saint', 'showed', 'quebec', 'fell', 'making', 'use', 'success', 'decided', 'removed', 'prayers', 'murder', '15', 'admitted', 'los', 'western', 'lost', 'angeles', 'find', 'blood', 'force', 'secretary', 'suffered', 'irish', 'august', 'sometimes', 'attack', 'hollywood', 'real', 'island', 'indonesia', 'traditional', 'turned', 'bring', 'decision', '1989', 'cause', 'least', 'bardot', 'rest', 'front', 'nearby', 'named', 'image', 'newspapers', '30', 'memorial', 'released', 'african', 'military', 'hit', 'authorities', 'northern', 'care', 'freedom', 'story', 'eastern', 'carried', 'beach', 'feature', 'actress', 'large', 'caused', 'moslem', 'something', 'monarchy', 'almost', 'march', '1991', 'speculation', 'recovery', 'hold', 'point', 'lenin', 'aides', 'strong', 'believed', 'rather', 'worked', 'final', 'boris', 'rule', 'issued', 'accused', 'built', 'council', 'industry', 'shot', 'gmt', 'crucitti', 'source', 'policy', 'elected', 'seven', 'sources', 'possible', 'polls', 'stage', 'view', 'bertil', 'priests', 'company', 'loved', 'really', 'millions', 'report', 'berlin', 'college', 'half', 'morning', 'diplomat', 'failed', 'mission', 'parties', 'attend', '1996', 'stalin', 'run', 'event', 'treated', 'nirmala', 'forced', 'salonika', 'pounds', 'picture', 'estate', 'started', 'feel', 'joined', 'coalition', 'dead', 'paid', 'gay', 'embassy', 'cannot', '100', 'committee', 'though', 'tumour', 'play', 'probably', 'scientology', 'face', 'modern', 'different', 'important', 'sense', 'behind', 'africa', 'business', 'wartime', 'everything', 'gemelli', 'leave', '76', 'fall', 'papers', 'fever', 'finally', 'message', 'chapel', 'founded', 'attempt', 'pay', 'republican', 'keep', 'trying', 'parkinson', 'tribute', 'involved', 'works', 'doctor', 'eight', 'allowed', 'successful', 'singer', 'arrived', 'within', 'red', 'played', 'refused', 'looking', 'bid', '80', 'nothing', 'hall', 'enough', 'anything', 'rock', 'opera', 'april', 'biggest', 'amid', 'elections', 'poles', 'career', 'need', 'spread', 'tests', 'included', 'brain', 'abortion', 'spiritual', 'based', 'working', 'control', 'poster', 'turn', 'services', 'papal', 'done', 'legal', 'especially', 'governor', 'territory', 'themselves', 'nuclear', 'deeply', 'however', 'huge', 'spoke', 'james', 'read', 'got', 'project', 'buddhist', 'residence', 'efforts', 'programme', 'sen', 'indian', 'violence', 'gold', 'elizabeth', 'chernomyrdin', 'move', 'region', 'honour', 'krakow', 'issues', 'disney', 'events', 'building', 'idea', 'chirac', 'largest', 'heir', 'china', 'signs', 'madonna', 'quite', 'christ', 'faith', 'charges', 'gathered', 'let', 'visited', 'saw', 'ii', 'having', 'tv', 'prison', 'swiss', 'pray', 'animal', 'figures', 'claims', 'takes', 'greek', 'ireland', 'cold', 'needed', 'prominent', 'comes', 'present', 'averell', 'holiday', 'israel', 'christians', 'battle', 'hitler', 'association', 'felt', 'followed', 'signed', 'form', 'israeli', 'fact', 'revealed', 'marrying', 'fashion', 'remained', 'powerful', 'lover', 'look', 'ruling', 'stop', '18', 'citizen', 'hard', 'britons', 'fine', 'free', 'reed', 'sweden', 'ramos', 'la', 'served', 'protest', 'broke', 'documents', 'further', 'guests', 'trembling', 'fame', 'able', 'showing', 'serious', '25', 'ellen', 'historic', 'trial', 'line', 'communism', 'remove', 'minutes', 'active', 'kohl', 'independence', 'weekend', 'pressure', 'looked', 'voice', 'artists', 'rare', 'movement', '1979', 'period', 'fear', 'tsar', 'vietnam', 'summer', 'presley', 'speak', 'victims', 'road', 'debate', 'underwent', 'job', 'officer', 'headquarters', 'flynt', 'homeland', 'step', 'department', 'details', 'republic', 'supreme', 'byzantine', 'visitors', 'monarch', 'tradition', 'change', 'entertainment', 'romanian', 'build', 'site', '1978', 'meet', 'moment', 'schedule', 'religion', 'professor', 'mrs', 'grand', 'beautiful', 'raise', 'truth', 'arts', 'carlos', 'warned', 'area', 'celebrate', 'howard', \"'ve\", 'whole', 'sun', 'fbi', 'land', 'hotel', 'influence', 'estimated', 'light', 'running', 'san', 'ban', 'movie', 'helping', 'cinema', 'market', 'particularly', 'problem', 'leadership', 'cemetery', 'nazis', 'books', 'win', 'joseph', 'bank', 'homes', 'favourite', 'twice', '16', 'ran', 'opened', 'course', 'february', 'post', 'australia', 'sold', 'car', 'films', '1990', 'larry', 'billion', 'symbol', 'gandhi', 'trouble', 'blue', 'sex', 'invited', 'stand', 'revolution', 'title', 'holy', 'better', 'foundation', 'things', 'january', 'judge', 'pop', 'posters', '17', 'founder', 'theatre', 'disorder', 'o', 'miles', 'calls', 'retreat', 'hoped', 'charge', 'bucharest', 'written', '76-year-old', 'scotland', 'december', 'port', 'itself', 'abroad', 'nations', 'fellow', 'auction', 'sound', 'everyone', 'companies', 'doing', 'tired', 'aged', 'blessing', '12', 'scheduled', 'financial', 'sell', 'labour', 'person', 'quickly', 'spirit', 'coming', 'club', 'thought', 'streets', 'continue', 'lived', 'organised', 'celebrated', 'relations', 'farrakhan', 'tried', 'prepared', 'starting', 'becoming', 'spain', 'talk', 'clubs', 'surgeon', 'performance', 'soon', 'ground', 'nursing', 'mountain', 'process', 'side', 'action', 'steps', 'solidarity', 'roots', 'pictures', 'concerned', 'strength', 'offered', '1973', 'patriarch', 'designer', 'vast', 'workers', 'deep', 'instead', 'nato', 'collection', 'swedish', 'bed', 'expressed', 'information', 'australian', 'destitute', 'wallace', 'woodlands', 'jesus', 'style', 'key', 'killing', 'shortly', 'true', 'criticism', 'jewish', 'switzerland', 'alexander', 'appears', 'winning', 'marked', 'runcie', 'pound', 'marks', 'gone', 'considered', 'struggle', 'agreed', 'oldest', 'declined', 'birth', 'cities', 'regular', 'wearing', 'dismissed', '19', 'bypass', 'launched', 'views', 'parts', 'neurological', 'visits', 'trade', 'why', 'arms', 'release', 'haemorrhage', 'try', 'audience', 'cavallo', 'remain', 'stood', 'families', 'sought', 'loss', 'youth', 'murders', 'joaquin', 'speaking', 'california', 'critics', 'respect', 'controversial', 'leg', 'forces', 'jackson', 'material', 'aide', 'stone', 'diplomatic', 'passed', '11', 'performed', 'question', 'justice', 'urged', 'deal', 'politicians', 'brief', '1971', 'treatment', 'accept', 'praised', 'vanunu', 'wonderful', 'giving', 'von', 'dies', 'kind', 'moral', 'declared', 'various', 'airport', 'houses', 'violent', 'prayer', 'sexual', 'patient', 'worldwide', 'fringe', 'photographs', 'presence', 'continued', 'parents', 'using', 'publicly', '1930s', 'playing', 'farewell', 'changes', 'castro', 'attention', 'current', 'd', 'americans', 'rich', 'appearance', 'video', 'speech', 'reforms', 'board', '1', 'hands', 'model', 'reception', 'restoration', 'difficult', 'fire', 'recorded', 'defence', 'fair', 'albright', 'perform', 'staff', 'brennan', 'regional', 'chinese', 'independent', 'topless', '1977', 'boston', 'attacks', 'trips', 'goes', 'dr', 'inside', 'ordered', 'remember', 'comment', 'fought', 'author', 'gustaf', 'grew', 'archdiocese', 'hwang', 'phillips', 'jones', 'agency', '1947', 'nicholas', 'apparently', 'a.m', 'heard', 'position', 'gets', 'adding', 'call', 'ahead', 'communists', 'advertising', 'romanians', 'words', 'movies', 'ad', 'controversy', 'price', 'maria', 'similar', 'canterbury', 'writer', 'anyone', 'missionary', 'village', 'fighting', 'native', 'grounds', 'fully', 'duties', 'looks', 'everybody', 'includes', 'brown', 'david', 'soldiers', 'status', 'mastroianni', 'windsor', 'scientologists', 'laureate', 'dinner', 'respirator', 'annual', 'dozens', 'sick', '20th', 'spanish', 'happen', 'mind', 'legacy', 'evidence', 'timorese', 'items', 'poverty', 'troops', 'lady', 'castle', 'adolf', '50th', 'floor', 'andrew', 'greater', 'record', 'alliance', \"'re\", 'treasures', 'usually', 'previous', 'electoral', 'moslems', 'committed', 'meant', 'break', 'temple', 'immigrants', '1986', '13', 'visiting', 'rejected', 'reconciliation', 'natural', 'someone', 'longer', '14', 'shared', 'buckingham', 'returning', 'anglican', 'ruled', 'era', 'cabinet', 'knew', 'latin', 'villa', 'shows', 'revolutionary', 'date', 'feet', 'thing', 'tourists', 'pages', 'herself', 'jail', 'seriously', 'promote', '24', 'watch', 'sad', 'water', 'fight', 'russians', 'growing', 'restore', 'raised', 'throughout', 'henry', 'chairman', 'jacques', '1975', 'language', 'crimes', 'korea', 'jazz', 'congress', 'coffin', 'assassination', 'citizenship', 'ancient', 'affairs', 'recalled', 'beetham', 'nine', 'bad', 'fund', 'travel', 'perhaps', 'economy', 'celebrations', 'spotlight', 'favour', 'bear', 'accompanied', 'intellectual', 'abdominal', 'schools', 'wed', 'publicity', 'development', 'golden', 'sons', 'travelled', 'representatives', 'allow', 'attending', 'bethlehem', 'surprise', 'lamour', 'agencies', 'liberal', 'pain', 'names', 'scandal', 'share', 'scene', 'wall', 'km', 'devotion', 'basilica', 'wish', 'hungary', 'christianity', 'pneumonia', 'boycott', 'towards', 'telephone', 'democracy', 'miss', 'p.m', 'helicopter', 'deng', 'lord', 'mary', 'germans', 'stockholm', 'constitution', 'decades', 'glamorous', 'widely', 'crown', 'alleged', 'mansion', 'boy', 'bulgarian', 'memoirs', 'radzinsky', 'documentary', 'criticised', 'happened', 'lies', 'holocaust', 'richard', 'jose', 'delayed', 'concern', 'dictator', 'portugal', 'fate', 'cioaba', 'kong', 'confirmed', 'tell', 'succeed', 'ending', 'referring', 'quiet', 'hero', 'bourassa', 'fears', '40', 'conservatives', 'completed', 'powers', 'eve', 'protect', 'consider', 'retire', 'common', 'federal', 'student', 'louis', 'else', 'questions', 'previously', 'munich', 'credit', 'plane', 'situation', 'popularity', 'short', 'rev', 'talks', 'faces', 'grave', 'hong', 'tours', 'version', '19th', 'sign', 'dent', 'tabloid', 'post-communist', 'invaded', 'winner', 'cuba', 'race', 'tutu', 'string', 'protestant', 'lilian', 'glittering', 'address', 'needs', 'makes', 'senate', 'complications', 'experts', '2,000', 'announcement', 'understand', 'officially', 'river', 'act', 'alabama', 'research', 'agca', 'ashes', 'hayward', 'forward', 'shown', 'envoy', 'street', 'remarks', 'dozen', 'heritage', 'denounced', 'abc', 'thomas', 'reading', 'van', 'created', 'experience', 'korean', 'conflict', 'changed', 'join', 'expect', 'headed', 'simply', 'values', 'canada', 'randolph', 'estrada', 'immediately', 'entered', 'charged', 'turning', 'francisco', 'spencer', 'lack', 'historian', 'damage', 'finding', 'band', 'review', 'bob', 'protests', 'lot', 'opponents', 'faced', 'annulment', 'forbes', 'internet', 'firm', 'candidate', 'moore', 'le', 'sotheby', 'low', 'leigh', 'mention', 'wooden', 'resistance', 'tom', 'appeal', 'middle', 'divorcee', 'gift', 'gypsies', 'drive', 'activities', 'raising', 'emotional', 'personality', 'buy', 'unity', 'completely', 'renowned', 'orange', 'drew', 'express', 'cross', 'behaviour', 'candidates', 'lee', '1997', 'pilgrims', 'decide', 'bormann', 'tomb', 'waiting', 'property', 'seemed', 'rules', '27', 'younger', 'display', 'threatened', 'markets', 'example', 'walked', 'appointed', 'indonesian', 'victory', 'liver', 'wales', '18th', 'serve', 'hindu', 'danger', 'standing', 'seat', 'institution', 'leaving', 'manley', 'blair', 'ideas', 'stepped', 'voodoo', 'ties', 'baptist', 'projects', 'ministry', 'rose', 'agenda', 'exiled', '1980', 'historical', 'bulletin', 'lebed', 'highly', 'effort', '70', 'conducted', 'resort', 'serving', 'representative', 'nationalist', 'saved', 'csu', 'artistic', 'initial', 'scottish', 'means', 'mexico', 'particular', 'centuries', '200', 'aid', 'marble', 'ali', 'tsongas', 'supporter', \"'ll\", 'chancellor', 'murdered', 'malaria', 'sat', 'highest', 'cerpa', 'greatest', 'cassisa', 'gunman', 'holding', 'gays', 'increase', 'metres', 'bearing', 'total', 'mainly', 'trust', 'easter', 'relatively', 'georgy', 'unusual', 'carey', 'boost', 'proud', 'homosexual', 'accusations', 'turkish', 'welcome', 'suspected', 'room', 'match', 'akobe', 'apart', 'daly', 'banned', '1970s', 'portuguese', 'facade', 'unprecedented', 'stern', 'handed', 'mausoleum', 'seeking', 'matter', 'paintings', 'socialist', 'whibley', '1970', 'japanese', 'dressed', 'george', 'plays', 'girls', 'comments', 'awards', 'commission', 'actors', 'above', 'interest', 'wojtyla', 'eldest', 'brazil', 'residents', 'mistress', 'taylor', 'greece', 'soul', '1946', 'feeling', \"'d\", 'system', 'approved', 'route', 'stewart', 'jakarta', 'latest', 'resignation', 'opposed', 'edward', 'thanked', 'right-wing', 'shooting', 'borer', 'cornwell', 'gutters', 'crisis', 'ex-wife', 'exile', 'emergency', 'likely', 'seems', 'blessed', 'brecker', 'suicide', '1960s', 'touch', 'praying', 'philippines', 'imminent', 'sort', 'allegations', 'debakey', 'improve', 'coast', 'budget', 'strikes', 'democrat', 'empire', '86', 'faithful', 'royals', 'lawyers', 'task', 'league', '5', '1945', 'songs', 'places', 'reputation', 'winners', 'education', 'afternoon', 'guards', 'learn', 'haiti', 'edinburgh', 'produced', 'ion', 'multimillionaire', 'photographers', 'accepted', 'represented', 'developed', 'deliberations', 'continuing', 'becket', 'wait', 'romanov', 'moved', 'weekly', 'arrival', 'giant', 'easy', 'pair', 'intellectuals', 'activist', 'challenge', 'province', 'compared', 'choice', 'chapter', 'eventually', 'musicians', 'journalists', 'chadwick', 'procession', 'margareta', '1987', 'dating', 'defeated', 'courage', 'sure', 'growth', 'ready', 'fortune', 'celebrities', 'sacred', 'writers', '3', 'responsible', 'funds', 'attacked', 'ask', 'graceland', 'planning', 'introduced', 'claim', 'alive', 'communities', 'contemporary', 'racial', 'split', 'lie', 'lesbian', 'football', 'die', 'writings', 'selling', 'crime', 'ramos-horta', 'bible', 'resume', 'succession', 'deputy', 'tree', 'eyes', 'related', 'retired', 'resigned', 'supply', '21', 'thank', 'speeches', 'cardiac', 'farnborough', 'wrong', 'repeatedly', '47', '1948', 'mccartney', 'animals', 'access', 'brothers', 'sprawling', 'cases', 'spend', 'normally', 'martin', 'f', 'reward', 'enter', 'focus', 'audiences', 'currently', 'remote', 'mean', 'allowing', 'humour', 'lahar', 'ailing', 'robert', 'jerusalem', 'sales', 'navy', 'banks', 'long-time', 'wishes', 'poll', 'mourners', 'dignitaries', 'positive', 'occasion', 'protection', 'administration', 'suburb', 'investment', '86-year-old', 'armed', 'level', '2', 'irregular', '1960', 'manhattan', 'naturalised', 'peaceful', 'slightly', 'jury', '1940', 'standards', 'admission', 'beyond', 'memory', 'prayed', 'monks', 'placed', 'slow', 'papacy', 'finch', 'constant', 'kerry', 'beloved', 'term', '75', 'recognition', 'polish-born', 'lustiger', 'complained', 'canadian', 'onassis', 'redwood', 'appealed', 'carrying', '300', 'acceptance', 'hate', 'green', 'nurse', 'interests', 'bought', 'messages', 'range', 'offensive', '1,500', 'mountains', 'follow', 'blamed', 'terms', 'flag', 'intention', 'promised', 'anne', 'operations', 'records', 'survived', 'concerts', '1949', 'postponed', 'assembly', 'carl', 'chance', '77-year-old', 'hunting', 'cruise', 'appear', 'ceausescu', 'eye', 'offer', 'worth', 'closest', 'memphis', 'sentence', 'herald', 'engagements', 'demanded', 'healthy', 'duty', 'traffic', 'keeping', 'reach', 'chosen', 'seem', 'asking', 'sweet', 'felix', 'analysts', 'row', 'possibility', 'agent', 'publisher', 'clinic', '1985', 'colon', 'manila', 'seoul', 'archives', 'alongside', 'runs', 'packed', 'captured', 'adviser', 'commoner', 'draw', 'bells', 'begin', 'unable', 'corruption', 'killer', 'stallone', 'getting', 'master', 'normal', 'sheep', 'dutch', 'myself', 'malraux', 'flew', 'majority', 'commercial', 'watching', 'flowers', 'converted', 'maybe', 'impact', 'fee', 'walls', 'session', '20,000', 'macphee', 'rushed', 'kevin', 'appointment', 'forman', 'sweeping', 'reporter', 'adopted', 'becker', 'traditions', 'choose', 'construction', 'simple', 'bbc', 'telegraph', '1972', 'ordinary', 'settlement', 'aimed', 'adultery', 'heppner', 'cancelled', 'suggested', 'pacemaker', '7', 'arrested', 'background', 'czech', 'remembered', 'fourth', '1936', 'priesthood', 'stayed', 'putting', 'tudjman', 'formed', 'ten', 'reportedly', 'intestinal', 'thoughts', 'extraordinary', 'guard', 'screen', 'beliefs', 'lisbon', 'criminal', 'alone', 'millennium', '1982', 'kelley', 'recognised', 'grant', 'constitutional', 'desire', 'offering', 'hindus', 'staying', 'mandela', 'severe', 'drug', 'inspired', '=', 'georgetown', 'ex-communists', 'extrapyramidal', 'announce', '1976', 'municipal', 'delegates', 'mount', 'complaints', 'damaged', 'ability', 'caught', 'fitted', 'presidency', 'season', 'suggestions', 'regarded', 'vomiting', 'moving', 'chemotherapy', 'influential', '85', 'marcello', 'failure', 'briefly', 'klan', 'convent', 'pancreatic', 'luxury', 'sports', 'aims', 'pronounced', 'racism', 'interviews', 'perfect', 'rival', 'horta', 'taiwan', 'expert', 'clark', 'arkansas', 'proved', 'intelligence', 'unit', 'condemned', 'publishing', 'proceedings', 'becomes', 'so-called', 'lung', 'hosted', 'speedy', 'pulled', 'victim', 'clearly', 'wake', 'generation', 'greeted', 'tourist', 'chances', 'fresh', 'cost', 'valuable', 'vladimir', 'freemasons', 'publication', 'specialists', 'size', 'headlines', 'foster', 'kalyanam', 'save', 'madrid', 'garden', 'chavis', 'arrest', 'ordained', 'constantinescu', 'hundred', 'areas', 'attempts', 'cheered', 'operating', 'llosa', 'gallagher', '1988', 'flock', 'improved', 'companion', '8', 'closed', 'broken', 'deliver', 'alexiy', 'remarkable', 'dior', 'rebel', 'formerly', 'guilty', 'editor', 'separation', 'singers', 'single', 'wine', 'malignant', 'camp', 'vargas', 'sixth', 'response', 'ignatyev', 'class', 'homecoming', 'field', 'indeed', 'reform', 'mp', 'girl', 'prices', 'beat', 'associated', 'praise', 'runaway', 'carry', 'crowds', 'oasis', 'karol', 'frail', 'round', 'invasion', 'officers', 'anaesthetic', 'burial', 'overseas', 'veteran', 'moments', 'nobody', 'trees', 'stopped', 'abuse', 'duchess', 'amount', 'sang', 'kansas', 'collapsed', '50,000', 'bigger', 'fred', 'occupation', 'harrelson', 'oscar', 'rumours', 'allies', 'reference', 'defend', 'bun', 'ude', 'points', 'chose', 'pride', 'colleagues', 'deny', 'elegant', 'charities', 'agents', 'mostly', 'magnate', 'argued', 'philadelphia', 'heirs', 'homeless', 'cardinals', 'dubbed', 'tells', 'wages', 'linked', 'products', 'demands', 'branded', 'persuade', 'baby', 'decree', 'houston', 'type', 'secrets', 'silent', 'reluctant', 'paper', 'beginning', 'hotels', 'devoted', 'opening', 'dying', 'priscilla', 'suite', 'inflammation', 'retirement', 'catholicism', 'relatives', 'studio', 'gianni', 'dancers', 'staged', 'resign', 'rap', 'reagan', 'male', 'wing', 'bonn', 'sisters', 'memories', 'dignity', 'effects', 'paying', 'casket', 'mehmet', 'shelter', 'either', 'threats', 'studies', 'eager', 'collapse', 'backed', '10th', 'celebration', 'prelate', 'prostate', 'unesco', 'gifted', \"'brien\", 'charm', 'kidney', 'organisers', 'send', 'leftist', 'quietly', 'cited', 'slain', 'wished', 'necessary', 'explain', 'concerns', 'suharto', 'certain', 'surgeons', 'stations', 'maxim', 'volunteers', 'cash', 'dramatic', 'emerged', 'calling', 'literary', 'remarry', 'venizelos', 'search', 'available', 'reese', 'addressed', 'painful', 'replacement', 'prosecutor', 'islam', 'sexually', 'ruth', 'trapp', 'crash', 'icons', 'gained', 'vanity', 'virgin', 'meetings', 'blame', 'character', 'shadow', 'colston', 'cardiologist', 'behalf', 'reelection', 'restored', '6', 'mercy', 'digby', 'chalet', 'punishing', 'request', 'lavish', 'touched', 'manager', 'angry', 'intensive', 'supported', 'population', 'regime', 'ritz', 'original', 'stores', 'involving', 'ageing', 'silence', 'firms', 'cremated', 'liberia', 'feelings', 'earned', 'jan', 'cover', 'certainly', 'convince', 'increasingly', 'writing', 'shop', 'currency', 'florida', 'discussions', 'hair', 'revelations', 'nominations', 'recording', 'swim', 'enormous', 'separate', 'nice', 'marsalis', 'romance', '1950s', 'acquired', 'prompted', 'grey', 'rural', 'delighted', 'four-day', 'gives', '33', 'journey', 'cast', 'keen', 'uk', 'traditionally', 'enemy', 'congregation', 'activity', 'grandchildren', 'gather', 'word', 'mr', 'outspoken', 'jack', '4,500', 'hectic', 'lower', 'christopher', 'beijing', 'profile', 'prostitute', 'appendectomy', 'managed', 'camps', 'practice', 'obviously', '90', 'ethnic', 'wealthy', 'iliescu', 'telling', 'acting', '11-day', 'strongly', 'finds', 'viewers', 'encouraged', 'base', 'happiness', 'snow', 'democrats', 'stories', 'launching', 'balcony', 'risk', 'host', 'engagement', 'der', 'copenhagen', 'authority', 'bringing', 'mail', 'fit', 'bond', 'miracle', 'moldova', 'java', 'unpaid', 'track', 'presented', 'continues', 'table', 'space', 'game', 'catherine', 'gov', 'tickets', 'hoping', 'receiving', 'infection', 't-shirts', 'mike', 'lights', 'frequently', 'voted', 'ladies', 'flight', '960', 'weizman', 'balkan', 'moves', 'athos', 'album', 'biography', 'neither', 'dropped', 'provincial', 'students', 'technology', 'perez', 'bills', 'evident', 'bath', 'spoken', 'openly', 'lay', 'studied', 'archive', 'columbia', 'frequent', 'abbey', 'older', 'caring', 'hungarian', '48', 'francesco', 'jimmy', 'mistake', 'academy', 'motorcade', 'seeks', 'policies', 'volcano', 'responsibility', 'singing', 'picked', 'forget', 'synod', 'prevent', 'intestine', 'scholars', 'butrint', 'worst', 'daniel', '1,000', 'gypsy', 'riviera', 'totally', 'below', 'nature', 'sean', 'tomorrow', 'joking', 'scandals', 'advertisement', 'stroke', 'dedicated', 'helmut', 'network', 'helmsley', 'massachusetts', '16th', 'designed', 'variety', '1965', 'reaction', '23', 'moccia', 'artist', 'burned', 'ideals', 'turbulent', 'celibacy', 'pocahontas', 'reveal', 'diagnosed', 'rate', 'laid', 'thatcher', 'weak', 'discovered', 'rise', 'investigation', 'fatigue', 'sympathy', 'orders', 'smile', 'ambulance', 'calm', 'upon', 'landscape', '9', 'pimen', 'abdication', 'factory', 'sir', 'undergo', 'ministers', 'exclusive', 'judges', 'viktor', 'insisted', 'tips', 'preserve', 'bury', 'expression', 'sides', 'determined', 'campaigner', 'dance', 'demanding', 'represent', 'uncertainty', 'vaillant', 'stops', 'wealth', 'homily', 'privacy', 'crypt', 'full-page', 'joanna', 'asia', 'sparked', 'journalist', 'tough', 'xvi', 'thinking', 'burns', 'prior', 'features', 'surrounding', 'broadcast', 'paint', 'corrects', 'amelia', 'architect', 'kwon', 'administrative', 'bernard', 'lovers', 'falling', 'pilla', 'contact', 'heat', 'extent', 'generations', 'balmoral', 'formally', 'inspiration', 'chubais', 'elite', 'alert', 'suspect', '1917', 'teacher', 'subject', 'bahamas', 'recover', 'painting', 'bouts', 'ailments', 'minority', 'enjoy', 'tesh', 'spring', 'sermon', 'hustler', 'unique', 'harris', 'acted', 'park', 'shields', 'blind', 'article', 'production', 'prosecutors', 'musician', 'roderick', 'neighbourhood', 'hurt', 'struck', 'thrown', 'w', 'feels', 'worshippers', 'supporters', 'landed', 'conscious', 'throw', 'turks', 'door', 'hopes', 'flown', 'represents', 'high-profile', 'respects', 'hymns', 'topic', 'heroes', 'assassinated', 'achievements', 'senator', 'hite', 'doubt', 'theme', 'granted', 'believes', 'convicted', 'draft', 'b.b', 'strip', 'warm', 'sites', 'widow', 'laws', 'nannen', 'facing', 'excluded', 'vs', 'apparent', 'kostroma', 'producer', 'smiled', 'parish', 'spending', 'finnish', 'marcos', 'food', 'boesak', 'naval', 'notorious', 'kung', 'intended', 'bars', 'nationwide', 'protestants', 'talking', 'renewed', 'clovis', 'advantage', 'episode', 'atlanta', 'bitter', 'famed', 'jersey', 'sentenced', 'deadly', 'angel', 'option', 'measures', 'marking', 'bones', 'destruction', 'lifestyle', 'numbers', 'convention', 'caribbean', 'confident', 'tatra', 'celebrating', 'anthony', '132', 'altar', 'study', 'orleans', 'empty', 'lyons', 'clergy', 'lines', 'miller', '100,000', 'inspire', 'setting', 'petersburg', 'poured', 'governments', 'friendship', 'photo', 'pilgrim', 'brigitte', 'gore', 'temperature', 'charismatic', 'bokassa', 'bit', 'depicts', 'vows', 'covered', 'tape', 'colourful', 'dollar', 'bedroom', 'earhart', 'temporary', 'ticket', 'closer', 're-elected', 'competition', 'gogh', 'roles', 'towns', 'mario', 'tipped', 'channel', 'atrocities', '1998', 'lire', 'worried', 'citizens', 'prigione', 'seized', 'stuff', 'saints', 'cdu', 'ss', 'performances', 'listed', 'surrounded', 'golf', 'honorary', 'hill', 'hailed', 'filled', 'kim', 'enjoyed', 'fast', 'walk', 'recall', 'bubis', 'croatian', 'leon', 'celebrates', 'combs', 'entering', 'quoting', '15-year-old', 'statue', 'nunbun', 'conversion', 'neighbouring', 'statements', 'outrage', 'establishment', 'midway', 'tribune', 'protesters', 'complex', 'taught', 'grandmother', 'neighbour', 'historians', 'breaking', 'rebuild', 'milos', 'quality', 'belgian', 'zyuganov', 'baptists', 'philippine', '2.3', 'decent', 'hermannsburg', 'zealand', 'philip', 'lasted', \"'connor\", 'established', '26', 'matthew', 'satisfaction', 'membership', 'admiration', 'nelson', 'economist', 'meets', 'absolutely', 'considering', 'annexed', 'reich', 'truly', 'awarded', 'commander', 'missions', 'suffer', 'corrected', 'involves', 'cut', 'speaks', 'conversation', 'mystery', 'bids', 'pelvis', 'account', 'mirecki', 'tonight', '15-year', 'danish', 'overlooking', '17th', 'resting', 'dogs', 'secure', 'unsuccessfully', 'lined', 'focused', 'assault', 'critical', 'trained', 'lake', 'aware', 'toward', 'solicitor', 'song', 'pledged', 'manner', 'penn', 'link', 'minor', 'politician', 'devastated', 'alan', 'summit', 'loud', 'tens', 'carolina', 'ottoman', 'itc', '($', 'guest', 'vice', 'juan', 'hear', 'two-day', '45', 'discuss', 'bedside', 'acts', 'conclave', 'reserved', 'kill', 'margrethe', 'aids', 'sofia', 'difficulties', 'suit', 'noted', 'paparazzi', 'economics', 'fort', 'dark', 'mahatma', 'thanks', 'blonde', '65-year-old', 'wallis', 'aim', 'gathering', 'couples', 'forgive', 'marriages', 'accord', 'zakatov', 'forms', 'compare', 'guerrillas', 'akchurin', 'materials', '42', 'shaking', 'graham', 'survive', 'closely', 'organiser', 'failing', 'destroyed', 'shares', 'weight', 'jean', 'elsewhere', 'politically', 'arteries', 'tony', 'except', 'flow', 'swept', 'immediate', 'criticise', 'julia', 'norwegian', 'platform', 'monument', 'surviving', 'rooms', 'unconscious', 'unknown', 'yes', 'decade', 'fidel', 'fatima', 'higher', 'secluded', 'stability', 'bulgaria', 'facial', 'teaching', 'well-known', 'jobs', 'corp', 'pregnancy', 'provide', 'impoverished', 'originally', 'surprised', 'shed', 'imperial', 'prepare', 'persecution', 'mentally', 'increased', 'onto', 'venture', 'donations', 'las', 'joint', 'ranks', 'churchmen', 'multiple', 'intelligent', 'aunt', 'royalty', 'wave', 'argentina', 'anti-abortion', 'milan', 'stature', 'relative', 'spot', '150', 'arriving', 'chest', 'buddhism', 'commandments', '2000', 'exactly', 'respected', 'vi', 'festivals', 'athens', 'shakur', '28', 'result', 'handwritten', 'abandoned', 'tax', 'acknowledged', 'plastic', 'reality', 'reminded', 'flee', 'executive', 'hot', '36', 'stressed', 'theodoridis', 'hillary', 'stamp', 'dialogue', 'launch', 'emperor', 'debut', 'killings', 'zakopane', 'allegedly', 'counter', 'self-styled', 'ordination', 'transition', 'nor', 'breathing', 'claimed', 'jr', 'highgrove', 'dangerous', 'frank', 'jamaica', 'institute', 'musical', 'scenes', 'bouche', 'fields', 'lebanon', 'regularly', 'loyalty', 'mosques', 'rocked', '1969', 'theft', 'gorbachev', 'absolute', 'baseball', 'laura', 'solution', 'typical', 'stock', 'explained', 'georgia', 'dangers', 'develop', 'aug', 'specifically', 'balabagan', 'prestigious', 'festivities', 'heavy', 'dancing', 'fiction', 'domestic', 'renat', 'donatella', 'bridges', 'sayer', 'bodies', 'buildings', 'slaughter', 'steady', 'disaster', 'complete', 'escorted', 'sees', 'copies', 'furniture', 'vegas', 'approval', 'gradually', 'inoperable', 'teachings', 'ash', 'estimate', 'passing', 'deaths', 'bureau', 'modest', 'absence', 'ghandi', 'scientific', 'virginia', 'ira', 'erupted', 'trendy', 'abdicate', 'illegal', 'astiz', 'prospect', 'knows', 'adhesions', 'loyal', 'feared', 'wilderness', 'minds', 'sensitive', 'blocks', 'precious', 'immigrant', 'acknowledge', 'hearing', 'recurrent', 'photograph', 'execution', 'heir-to-the-throne', 'open-air', 'rapper', 'remarried', '1967', 'teach', 'wild', 'retiring', '52', 'entry', 'lowell', 'ohio', '1953', '1941', 'delivered', 'mirror', 'discussed', 'hanoi', 'loves', 'entitled', 'freed', 'hip', 'presbyterian', 'belfast', 'outraged', 'norway', 'dardanelles', 'liberty', 'missing', 'convert', 'pull', 'ousted', 'hospitals', 'outpouring', 'document', 'concentration', 'donald', 'perverted', 'referendum', 'adored', 'peru', 'offers', 'treat', '30,000', 'imagine', 'label', 'shirt', 'turns', 'frankfurt', 'locals', 'cooperation', 'comedy', 'upper', 'delhi', 'highness', 'ruins', 'talent', 'verdi', 'goal', 'ralph', 'biographer', 'energy', 'losing', 'alzheimer', 'neighbours', 'goat', 'albums', '1920s', 'admire', 'minute', 'radical', 'bennett', 'two-week', 'earning', 'returns', 'ex-king', 'urban', 'profit', 'benjamin', 'silver', 'reasons', 'teachers', 'importance', 'geller', 'barred', 'purpose', 'authors', 'troubled', 'liked', 'founding', 'birthplace', '58', 'lama', 'auctioned', 'countrymen', 'notably', 'tension', 'hostages', 'shut', 'zong', 'nada', 'patterson', 'co', 'featured', 'reims', 'charitable', 'mourning', 'santo', 'list', 'daughter-in-law', 'training', 'somebody', 'liberals', 'allied', 'stole', 'expects', 'continent', 'anatoly', 'ring', 'commitment', 'bolsheviks', 'sinead', 'gyor', 'realise', 'dissident', 'ignored', 'pen', 'rein', 'everywhere', 'inflamed', 'suddenly', 'colony', 'blend', 'warning', 'plunge', 'fifth', 'barcelona', 'structure', 'venezuela', 'kathleen', 'macapagal', 'commentator', 'parishioners', 'baker', 'columnist', 'entrance', 'dispute', 'manni', 'cleric', 'ballot', 'minghella', 'salinas', 'leyland', 'individual', 'two-hour', 'rebellion', 'dna', 'demonstration', 'stands', 'preached', 'engaged', 'feast', 'drawn', 'heartbeat', 'finance', 'progress', 'paramount', 'timing', 'connection', '86th', 'maintaining', 'sector', 'exposure', 'quarter', 'partners', '600', 'cosentino', 'rangitikei', 'county', 'hamer', 'elegance', 'pilgrimage', 'merely', 'toured', 'virtually', 'colour', 'premier', 'contender', 'block', 'ranging', 'satisfy', 'shoes', 'arthur', 'resumed', 'sacked', 'learned', 'eruption', 'tributes', 'hudec', 'firmly', 'dresden', 'solo', 'honours', 'slavs', 'publicist', 'textbook', 'egypt', 'lunch', 'slipped', 'well-wishers', 'exhibit', 'proper', 'landless', 'sartre', 'sitting', 'arrangements', 'wisner', 'preserved', 'waite', 'anger', 'poorest', 'patrick', 'hunters', 'sydney', 'shattered', 'somewhat', 'raid', 'calcutta-based', '77', 'concept', '29', 'hans', 'tears', 'effect', 'carol', '40,000', 'nbc', 'pastor', 'baroque', 'circle', 'soft-spoken', 'wellington', 'post-war', 'evans', 'pretty', 'unions', 'owen', 'awaiting', 'seek', 'looted', 'cannes', 'herzog', 'seize', 'mountbatten', 'gallery', 'low-key', 'church-owned', 'index', 'rid', 'massive', 'largely', 'restaurant', 'activists', 'privately', 'fed', 'dollars', 'emil', 'heads', '84', 'knights', 'thien', 'reason', 'consumer', '1918', 'tumultuous', 'burning', 'critic', 'joked', 'dublin', 'rigidity', 'secretly', 'northeast', 'wear', 'opposing', 'mccurry', 'outstretched', 'divine', 'strike', 'dresses', 'owned', 'directed', 'potential', 'visitor', 'reverend', 'entire', 'genuinely', 'seminary', 'bc', 'reduce', 'societies', 'sculptures', 'towering', 'girlfriend', 'recognises', 'scepticism', 'roads', '20-year', 'ease', 'inauguration', 'matters', 'fly', 'kompromat', 'unless', 'divided', 'store', 'second-largest', 'dream', 'hierarchy', 'albanian', '81', 'parades', 'apartheid', 'presided', 'visible', '72', 'addressing', 'sued', 'settlers', 'benefit', 'ritual', 'salzburg', 'motion', 'assisted', 'armenians', 'suspicious', 'sarajevo', 'difficulty', 'disappearance', 'sophia', 'familiar', 'distance', 'trigger', 'scale', '10-day', 'avoid', 'jean-marie', 'soup', 'organise', 'literature', 'favours', 'lawyer', 'et', '1980s', 'none', 'noting', 'mixed', 'taped', 'clean', 'wehrmacht', 'assured', 'briefing', 'exercising', 'palestinian', 'neuilly', 'effective', 'vittorio', 'bribes', 'operated', 'likes', 'flamboyant', 'exist', 'meditate', 'roger', 'governors', '68-year-old', 'equivalent', 'jokes', '$1', 'emotionally', 'speculated', 'smaller', 'tender', 'tiny', 'increasing', 'fled', 'improvement', 'believers', 'parliamentary', 'lakeside', 'bikini-clad', 'spaniards', 'coffee', 'direct', 'indicated', 'secrecy', 'income', 'believing', 'businesses', 'chatterjee', 'whatever', 'cuts', 'write', 'villagers', 'albanian-born', 'belgium', 'nicole', 'unlikely', 'viii', 'harry', 'closet', 'prosecution', 'firing', 'joining', 'attract', 's.k', 'peninsula', 'threatening', 'contract', 'ronald', 'leaves', 'magazines', 'centrist', 'creighton', 'remarrying', 'welcomed', 'egyptian', 'luther', 'bomb', 'dili', '450', 'bar', 'wheelchair', 'denying', 'non-violent', 'loins', 'lucinschi', 'impose', 'avoided', 'underground', 'whoever', 'repeated', 'pleased', 'josef', 'passionate', 'cafe', 'woody', 'knelt', 'lobby', 'disappeared', '22', 'opportunity', 'complicated', 'parade', 'acclaimed', 'ivory', 'schemer', 'teenage', 'worship', 'driving', 'barbara', 'greet', 'effectively', 'dalai', 'centred', 'pianist', 'connecticut', 'upset', 'transfer', 'intimate', 'sergei', 'morgan', 'elton', 'celebrity', 'slave', 'captain', 'dynasty', 'appearing', 'bride', 'religions', 'oliver', 'conditions', 'expressions', 'aitken', 'legendary', 'intense', 'equally', 'battling', 'convalescence', 'flurry', 'tapes', 'sleep', 'hanging', 'pending', 'kkk', 'honest', 'bolshevik', 'foremost', 'mondrian', 'esquivel', '1984', 'nervous', 'elder', 'impossible', 'cautious', 'note', 'potent', 'fun', 'worries', 'shouted', 'hao', 'coptic', 'naked', 'advised', 'shanghai', 'lawsuits', 'walter', 'listening', 'confidence', 'bosnia', 'refrain', 'sounds', 'literally', 'watched', 'ocean', 'interested', 'shaping', 'explaining', 'organisations', 'manuscript', 'ships', 'experiences', 'drama', 'sicilian', 'ensure', 'fraud', 'votes', 'sentiment', 'lesbianism', 'causing', 'carefully', 'suggesting', 'beatles', 'japanese-americans', 'hits', 'intolerance', 'backs', 'unstable', 'walters', 'salvi', 'changing', 'intend', 'hype', 'mentioned', 'rising', 'garage', 'horse', 'colonial', 'recovering', 'v', 'commissioner', 'doors', 'suggestion', 'passport', '44', 'ages', 'text', 'articles', 'programmes', 'civic', 'promoting', 'pratt', 'patron', 'hoffman', 'flying', 'demonstrations', 'hired', 'monarchist', 'herrera', 'eternal', 'worshipped', 'blow', 'halls', 'walks', 'frustration', 'thich', 'contains', 'uncle', 'unsolved', '4,000', 'banners', 'pure', 'paris-based', 'viewed', 'freedoms', 'stated', 'cell', 'mourn', 'directly', 'alarm', 'numerous', 'female', 'treating', 'okay', 'toast', 'rarely', 'improving', 'progressive', 'direction', 'mothers', 'occupied', 'augenthaler', 'gutenberg', 'pinatubo', 'treasure', 'enduring', 'sincerity', 'forgiveness', 'warn', 'shaped', 'patients', 'stick', 'feminist', '2,500', 'ironically', 'participating', 'partner', 'capture', 'appearances', 'delay', 'secular', '1961', 'chanted', 'division', 'boys', 'belonged', 'pledge', 'aside', 'bowed', 'assistant', 'otherwise', 'interior', 'tissue', 'pose', 'atmosphere', 'mysterious', 'incident', 'unfortunately', 'goldie', 'break-up', 'patrons', 'push', 'pays', 'halt', 'ex-husband', 'walking', 'provided', 'spirits', 'educational', 'heavily', 'revered', 'seventh', 'guidelines', 'mikhail', 'developing', '4', 'confessed', 'bonds', 'recurrence', 'assassin', 'seagal', 'les', 'formal', 'tissues', 'train', 'baptism', 'distributed', 'estranged', 'arden', 'gennady', 'fail', 'approach', 'sadness', 'internal', 'repair', 'desperation', 'detained', 'charming', 'pieces', 'foreigners', 'clarence', 'laughed', 'patronage', 'priority', 'combat', 'export', 'threw', 'portrait', 'eulogy', 'excellent', 'papa', 'shrugged', 'partisan', 'tea', 'fallen', 'bout', 'drove', 'blocked', 'trends', 'federation', 'hatred', '350', '1920', 'covering', 'slavery', 'shape', 'jozef', 'panel', 'disclose', 'location', 'analyst', 'remaining', 'successfully', 'awkward', 'globe', 'bloc', 'spree', 'photographed', 'weather', 'shock', 'entourage', 'nemtsov', 'vision', 'photographer', 'wadowice', 'resident', 'lesbians', 'degree', 'stunning', 'brings', 'bulk', 'hadeln', 'co-chairman', 'trials', 'ornate', 'cnn', 'replaced', 'luzhkov', 'wind', 'salute', 'partly', 'confronted', 'drop-out', 'locked', 'machel', 'outcome', 'oil', 'regards', 'mutiny', 'scrawled', 'target', 'eulogised', 'rests', 'dearest', 'turkey', 'proposed', 'geneva', 'nuncio', 'average', 'physical', 'arab', 'dole', 'basically', 'clock', 'environment', 'arranged', 'absent', 'bullet', 'studios', 'cable', 'bruce', 'ponomaryov', 'gentleman', 'alain', 'long-term', 'pantheon', 'telephoned', 'reminder', 'please', 'symbolic', 'demonstrating', 'unhappy', 'individuals', 'angered', 'relax', '74', 'tupelo', 'window', 'refuge', 'newsroom', 'stripes', 'denies', 'diminutive', 'muhammad', 'bidding', 'administering', 'urine', 'cheerful', 'oslo', 'cracking', 'cluedo', 'leads', 'honeymoon', 's', 'subsidiaries', 'visibly', 'selfishness', 'blond', 'incision', 'nancy', 'racecourse', 'frenzy', 'oporto', 'ex-communist', 'equipment', 'gentle', 'interfax', 'admired', 'wars', 'pushed', 'notion', 'blocking', 'blaze', 'netherlands', 'integration', 'stripped', 'portman', 'slums', 'survey', 'fraction', '1944', 'o.j', 'huertas', 'grief', 'telegram', 'hearts', 'announcing', 'feted', 'improves', 'fascinated', 'tall', 'kempton', 'blacks', 'chair', 'talked', 'unveiled', 'priestly', 'outdoor', 'spared', 'generous', 'renew', 'kalyviotis', 'worry', 'possibly', 'awaited', 'extaordinary', 'jovial', 'possessions', 'marched', 'betrayed', 'finland', 'starring', 'withdraw', '68', 'performers', 'persuaded', 'desmond', 'wept', 'liberation', 'b.i.g', 'receive', 'british-born', 'succeeded', 'answer', 'sells', 'abortions', 'solitary', 'turin', 'anti-semitism', 'spanish-style', 'barring', 'defending', 'crosby', 'knowledge', 'permanent', 'reign', 'plunged', '18-year', '1968', 'featuring', 'smith', 'dear', 'gloucester', 'norman', 'aspects', 'management', 'isolated', 'agricultural', 'loving', 'passion', 'confirmation', 'sting', 'fiery', 'displayed', 'violently', 'atlantic', 'andre', 'disastrous', 'crowded', 'fiestas', 'witnesses', 'backdrop', 'appropriate', 'busy', 'buying', 'northwest', 'trading', 'philosophy', 'fur', 'tycoon', 'speculate', 'respond', 'strategic', 'encourage', 'tower', 'nobility', 'praising', 'il', 'allows', 'website', 'nomination', 'sharp', 'taste', 'replied', 'dividing', 'opposite', 'rosemary', 'haven', 'shy', 'results', 'thinks', 'puccini', 'nigeria', 'battery', 'dimona', 'cottage', 'drink', 'determine', 'sexy', 'create', 'videos', 'persecuted', 'london-based', 'offices', 'sit', 'breakdown', 'regret', 'judgment', 'christoff', 'novel', 'relationships', 'responded', 'trio', 'marxist', 'achievement', 'bright', 'chechen', 'ho', 'daughters', 'patriotic', 'languages', 'ballet', 'promotion', 'yastrzhembsky', 'apartment', 'lourdes', 'executed', 'brutality', 'naumov', 'descendants', 'costs', 'afraid', 'displaying', 'specialist', 'uprising', 'nightclubs', 'chronic', 'hat', 'races', 'concrete', 'vadim', 'servant', 'unpopular', '1,000-year-old', 'rivalry', 'maverick', 'gesture', 'separated', 'unemployment', 'value', 'dennis', 'attracted', '1937', 'comeback', 'remarriage', 'puts', 'investigations', 'samuel', 'smoking', 'mussolini', 'madras', 'briefs', 'flags', 'french-speaking', 'hawn', 'attraction', 'plot', 'conscience', 'attorneys', 'obvious', 'infant', 'fainted', 'dossetti', 'pro-catholic', 'madeleine', 'rituals', 'discussion', 'tune', 'waved', 'maseri', 'diplomats', 'rope', 'hideaway', 'function', 'destitutes', 'llakana', 'recipients', 'hamburg', 'meanwhile', 'beauty', 'attilio', 'domination', 'architectural', 'delays', 'noel', 'pool', 'alpine', 'dictionary', 'custody', 'museums', 'aristocrat', 'abuses', 'tenors', 'recovered', 'proof', 'forbidden', 'toll', 'stance', 'clerk', 'relief', 'nicolae', '1913', 'romantic', 'riding', 'falls', 'indians', 'column', 'notebook', 'fondly', 'prostitution', 'computer', 'easier', 'sharply', 'cane', 'nowhere', 'tent', '25,000', 'tennis', 'alfonso', 'crying', 'professional', 'christendom', 'roof', '35', 'beart', 'neighbourhoods', 'credited', 'profits', 'preparing', 'decline', 'guardian', 'lacking', 'frailty', 'object', 'mrta', 'unionists', 'nomadic', 'avid', 'dustin', 'albert', 'relaxed', 'heal', 'switched', 'speed', 'reunion', 'laughter', 'pioneered', 'annually', 'examinations', 'preparation', 'surely', 'engineer', 'sending', 'financed', 'challenges', 'real-life', 'missed', 'finest', 'affect', 'ninth', 'knife', 'hung', 'novelist', 'smoke', 'sentimental', 'tale', 'lawrence', 'cristina', '50-year-old', 'gruelling', 'rapidly', 'jailed')\n"
     ]
    }
   ],
   "source": [
    "print vocab"
   ]
  },
  {
   "cell_type": "code",
   "execution_count": 6,
   "metadata": {
    "collapsed": false
   },
   "outputs": [
    {
     "name": "stdout",
     "output_type": "stream",
     "text": [
      "('0 UK: Prince Charles spearheads British royal revolution. LONDON 1996-08-20', '1 GERMANY: Historic Dresden church rising from WW2 ashes. DRESDEN, Germany 1996-08-21', \"2 INDIA: Mother Teresa's condition said still unstable. CALCUTTA 1996-08-23\", '3 UK: Palace warns British weekly over Charles pictures. LONDON 1996-08-25', '4 INDIA: Mother Teresa, slightly stronger, blesses nuns. CALCUTTA 1996-08-25', \"5 INDIA: Mother Teresa's condition unchanged, thousands pray. CALCUTTA 1996-08-25\", '6 INDIA: Mother Teresa shows signs of strength, blesses nuns. CALCUTTA 1996-08-26', \"7 INDIA: Mother Teresa's condition improves, many pray. CALCUTTA, India 1996-08-25\", '8 INDIA: Mother Teresa improves, nuns pray for \"miracle\". CALCUTTA 1996-08-26', '9 UK: Charles under fire over prospect of Queen Camilla. LONDON 1996-08-26', '10 UK: Britain tells Charles to forget Camilla. LONDON 1996-08-27', \"11 COTE D'IVOIRE: FEATURE - Quiet homecoming for reprieved Ivory Coast maid. ABIDJAN 1996-08-28\", '12 INDIA: Mother Teresa (\"I want to go home\") sits and prays. CALCUTTA 1996-08-28', '13 INDIA: Mother Teresa nears end of crisis, nuns rejoice. CALCUTTA 1996-08-28', '14 UK: Prosaic end for marriage of Charles and Diana. LONDON 1996-08-28', '15 UK: No respite for British royals despite divorce. LONDON 1996-08-28', \"16 UK: Camilla, love of Charles' life, an unlikely queen. LONDON 1996-08-28\", '17 UK: Diana sets out on new life as single woman. LONDON 1996-08-28', '18 USA: O.J. Simpson attacks media, hints at lawsuits. WASHINGTON 1996-08-28', '19 USA: U.S. Cardinal Bernardin has one year or less to live. CHICAGO 1996-08-30', '20 USA: U.S. Cardinal Bernardin says has terminal cancer. CHICAGO 1996-08-30', '21 ROMANIA: German architect wins Bucharest rebuilding prize. BUCHAREST 1996-09-02', '22 ARGENTINA: Argentina\\'s \"Blond Angel\" finally quits Navy. BUENOS AIRES, Argentina 1996-09-02', '23 UK: Disney lights up Pocahontas resting place. GRAVESEND, England 1996-09-06', '24 HUNGARY: POPE LEAVES HUNGARY AFTER DEMANDING TWO-DAY VISIT. BUDAPEST 1996-09-07', '25 HUNGARY: Pope says mass in Hungary, health in spotlight. GYOR, Hungary 1996-09-07', \"26 UK: Prince Charles' love will not wed him, paper says. LONDON 1996-09-09\", '27 UK: Ex-archbishop calls Princess Diana actress-schemer. LONDON 1996-09-09', '28 USA: Politics discussed backstage at Emmys, no airplay. PASADENA, Calif 1996-09-08', '29 UK: Diana angered by ex-archbishop\\'s \"schemer\" jibe. LONDON 1996-09-11', '30 UK: Queen Elizabeth to hold \"royal summit\" - report. LONDON 1996-09-10', \"31 BRAZIL: Nobel Prize winner sides with Brazil's landless. BRASILIA 1996-09-10\", \"32 VATICAN: FEATURE - Papal health in spotlight amid talk of Parkinson's. VATICAN CITY 1996-09-13\", '33 UK: Cool it with Camilla, Major tells Charles - paper. LONDON 1996-09-14', '34 ROMANIA: Romania \"royalty\" wedding draws business barons. BUCHAREST 1996-09-15', '35 UK: British royal family holds meeting on future. LONDON 1996-09-15', '36 UK: Scandal-battered British royals debate future role. LONDON 1996-09-16', \"37 SOUTH AFRICA: It's wonderful I've found Nelson, says new love. JOHANNESBURG 1996-09-17\", '38 CHILE: Chilean economist Felipe Herrera dies at 74. SANTIAGO 1996-09-18', '39 GREECE: Princess Diana joins in funeral on Greek island. LIMNI, Greece 1996-09-18', '40 USA: U.S. House of Representatives honors Mother Teresa. WASHINGTON 1996-09-17', \"41 FRANCE: Jewish-born cardinal is Pope's key man in France. PARIS 1996-09-18\", \"42 VATICAN: Pope's health will figure large on trip to France. VATICAN CITY 1996-09-18\", '43 PHILIPPINES: FEATURE - Ex-actor eyes Philippine presidency. [CORRECTED 03:43 GMT] MANILA 1996-09-18', '44 UK: Runaway bishop had child, Catholic church admits. LONDON 1996-09-19', '45 FRANCE: Pope skirts religious controversy in France. TOURS, France 1996-09-19', \"46 FRANCE: Pope visits western France religious stronghold. SAINTE-ANNE D'AURAY, France 1996-09-20\", '47 UK: \"I still love him\" says runaway bishop\\'s mistress. LONDON 1996-09-21', '48 UK: Church appeals to runaway Scottish bishop. LONDON 1996-09-21', \"49 SWITZERLAND: Romanian ex-king's daughter marries. LAUSANNE 1996-09-21\", \"50 SWITZERLAND: ROMANIAN EX-KING'S DAUGHTER MARRIES. LAUSANNE 1996-09-21\", '51 UK: Errant Catholic bishop wants to marry divorcee. LONDON 1996-09-22', '52 FRANCE: Pope speaks of death with \"a smile\"-Cardinal. REIMS, France 1996-09-22', '53 USA: Actress Dorothy Lamour dead at 81. LOS ANGELES 1996-09-23', '54 USA: South Georgia resort kept Kennedy wedding secret. CUMBERLAND ISLAND, Ga 1996-09-23', '55 FRANCE: FEATURE - Bardot tells all - for the love of animals. PARIS 1996-09-24', '56 FRANCE: Bardot tells all - for the love of animals. [CORRECTED 09:05 GMT] PARIS 1996-09-24', '57 AUSTRALIA: Quiet Buddhist farewell for mercy death Australian. DARWIN, Australia 1996-09-27', '58 AUSTRALIA: Australia mercy death man joked until the end. DARWIN, Australia 1996-09-27', '59 BELGIUM: Famed Belgian battlefield site makes its mark. WATERLOO, Belgium 1996-09-28', \"60 REPUBLIC OF IRELAND: Ireland's Cardinal Daly steps down at 79. DUBLIN 1996-10-01\", '61 CANADA: Former Quebec premier fought for Canadian unity. QUEBEC CITY 1996-10-02', '62 GERMANY: Feminist Hite seeks European parliament platform. FRANKFURT 1996-10-04', '63 UK: Prince Charles aide out after gaffes over Camilla. LONDON 1996-10-05', '64 GERMANY: Vargas Llosa urges sanctions on rights abuses. FRANKFURT 1996-10-06', '65 VATICAN: Tired Pope calls for prayers before operation. VATICAN CITY 1996-10-06', '66 ITALY: Pope ready for appendix surgery. ROME 1996-10-08', '67 FRANCE: FEATURE - \"Who\\'s Who\" sounds requiem for French intellectuals. PARIS 1996-10-07', '68 USA: Clinton wishes Pope \"speedy recovery\". WASHINGTON 1996-10-08', '69 ITALY: \"Textbook\" papal appendix surgery excludes tumour. [CORRECTED 16:45 GMT] ROME 1996-10-08', '70 ITALY: Pope gets clean bill of health after appendectomy. ROME 1996-10-09', '71 UK: Runaway UK bishop to marry, apologises to church. KENDAL, England 1996-10-08', \"72 ITALY: Pope's surgery a success, doctors say no tumour. ROME 1996-10-08\", '73 UK: Runaway Scottish bishop to marry lover. GLASGOW, Scotland 1996-10-08', '74 ITALY: Pope has appendix removed, no problems. ROME 1996-10-08', '75 ITALY: Tranquil Pope has appendix surgery. ROME 1996-10-08', \"76 ITALY: Pope's operation starts - hospital sources. ROME 1996-10-08\", '77 SOUTH KOREA: \"King of Pop\" Michael Jackson arrives in Seoul. SEOUL 1996-10-09', '78 SOUTH KOREA: Jackson takes to stage in Seoul despite protests. SEOUL 1996-10-11', '79 INDONESIA: Nobel peace awards put East Timor in spotlight. JAKARTA 1996-10-11', '80 NORWAY: Nobel peace award wins praise outside indonesia. OSLO 1996-10-11', \"81 VATICAN: Bishop's Nobel prize sweet satisfaction for Pope. VATICAN CITY 1996-10-11\", '82 NORWAY: Winners of Nobel Peace Prize since 1970. OSLO 1996-10-11', '83 SOUTH AFRICA: FEATURE - Germans cling to little oasis in rural South Africa. HERMANNSBURG, South Africa 1996-10-13', '84 GERMANY: German publisher of Stern magazine dies. HAMBURG, Germany 1996-10-13', '85 ITALY: Joking Pope appears in public after surgery. ROME 1996-10-13', '86 INDONESIA: Nobel laureate invited to gathering for Suharto. JAKARTA 1996-10-14', '87 VATICAN: After appendectomy, Papal trembling in spotlight. VATICAN CITY 1996-10-14', '88 USA: Material Girl Madonna becomes a mother. LOS ANGELES 1996-10-14', '89 USA: Madonna as mother - the next chapter. LOS ANGELES 1996-10-14', '90 REPUBLIC OF IRELAND: Irish aid agency pulls out of concert over singer. DUBLIN 1996-10-15', '91 UK: British writer seeks reward on Nazi gold-raid book. LONDON 1996-10-18', \"92 UK: Mahatma Ghandi's letters go on sale in London. LONDON 1996-10-21\", \"93 UK: Mahatma Gandhi's letters go on sale in London. LONDON 1996-10-21\", '94 USA: FEATURE-Haitian voodoo - more than dolls and zombies. MIAMI 1996-10-22', '95 VATICAN: Pope to celebrate public mass on Sunday. VATICAN CITY 1996-10-22', '96 VATICAN: Pope greets pilgrims, resumes full duties Sunday. VATICAN CITY 1996-10-23', \"97 SPAIN: Spanish bishops attack minister's lavish wedding. MADRID 1996-10-23\", '98 INDIA: Former Gandhi aide has second thoughts on auction. MADRAS, India 1996-10-24', '99 UK: ENGLISH PASTOR DEFENDS MEMORIAL SERVICE FOR MONKEY. LONDON 1996-10-25', '100 VATICAN: Pope gradually resumes activity after operation. VATICAN CITY 1996-10-27', '101 RUSSIA: Russia presents archives to U.S. Holocaust museum. MOSCOW 1996-10-28', '102 USA: Municipal industry mourns James Augenthaler. NEW YORK 1996-10-28', '103 UK: U.S. actor berates archbishop over smacking. LONDON 1996-10-28', '104 USA: Author who denied Japanese-Americans interned dies. LOS ANGELES 1996-10-29', '105 VATICAN: Pope to publish brief memoirs. VATICAN CITY 1996-10-31', '106 VATICAN: Pope marks 50 years as priest, announces memoirs. VATICAN CITY 1996-11-01', '107 VATICAN: FEATURE - Pope marks 50th anniversary of priesthood. VATICAN CITY 1996-11-01', '108 ROMANIA: Romanians enjoy colourful choice of candidates. BUCHAREST 1996-11-03', '109 RUSSIA: Veil of secrecy thickens as Yeltsin surgery nears. MOSCOW 1996-11-04', '110 RUSSIA: Yeltsin in good form as heart operation nears. MOSCOW 1996-11-04', '111 RUSSIA: Yeltsin op looks imminent, security tightened. MOSCOW 1996-11-05', '112 RUSSIA: FEATURE - Provincial museum fights to stay open in Russia. KOSTROMA, Russia 1996-11-04', '113 ARGENTINA: FEATURE - Erstwhile angel Cavallo bedevils government. BUENOS AIRES 1996-11-04', '114 RUSSIA: YELTSIN COMES THROUGH SEVEN-HOUR HEART OPERATION. MOSCOW 1996-11-05', '115 RUSSIA: Russia on edge as Yeltsin surgery goes to plan. MOSCOW 1996-11-05', '116 RUSSIA: Yeltsin comes through seven-hour heart operation. MOSCOW 1996-11-05', \"117 ITALY: Real-life Don Camillo won't toll bells for red. ROME 1996-11-06\", '118 VATICAN: Pope celebrates priesthood, to resume all activity. VATICAN CITY 1996-11-10', \"119 USA: Chicago's Cardinal Bernardin reported near death. CHICAGO 1996-11-13\", '120 USA: Church, lay leaders mourn Chicago cardinal. CHICAGO 1996-11-14', \"121 USA: Bishops recall Bernardin's humble leadership. WASHINGTON 1996-11-14\", '122 USA: Cardinal led Chicago archdiocese for 14 years. CHICAGO 1996-11-14', \"123 USA: Chicago's Cardinal Bernardin dead at age 68. CHICAGO 1996-11-14\", '124 VATICAN: Pope saddened over Bernardin death. VATICAN CITY 1996-11-14', '125 CROATIA: Croatian doctor says Tudjman \"feeling excellent\". ZAGREB 1996-11-16', '126 INDONESIA: Norway issues Timorese Nobel laureate a visa. JAKARTA 1996-11-17', '127 INDIA: Mother Teresa becomes honorary American citizen. NEW DELHI 1996-11-16', '128 VATICAN: Pope warms up for Castro by meeting Gorbachev. VATICAN CITY 1996-11-18', '129 USA: Final services for Cardinal Bernardin of Chicago. CHICAGO 1996-11-20', '130 UK: India saves Gandhi papers from jaws of commerce. LONDON 1996-11-22', \"131 USA: Simpson's life story defies imagination. SANTA MONICA, Calif. 1996-11-22\", '132 INDIA: Mother Teresa \"comfortable\" after heart failure. CALCUTTA 1996-11-22', '133 INDIA: Mother Teresa in hospital with heart problem. CALCUTTA 1996-11-22', '134 FRANCE: France pays tribute to writer Malraux on Saturday. PARIS 1996-11-22', '135 USA: S. Carolina Klan museum claims to teach history. LAURENS, S.C. 1996-11-24', '136 USA: Ex-hostage Waite still keeps symbolic ticket. NEW YORK 1996-11-26', \"137 UK: Cluedo's final mystery solved at inventor's grave. LONDON 1996-11-27\", \"138 MOLDOVA: Moldova's new leader has Moscow past, western goals. CHISINAU 1996-12-02\", '139 VATICAN: Belgian cardinal Hamer dies. VATICAN CITY 1996-12-02', '140 UK: Papers show Duke of Windsor was royal loose cannon. LONDON 1996-12-03', '141 FRANCE: Acclaimed French historian Georges Duby dies at 77. PARIS 1996-12-03', '142 CENTRAL AFRICAN REPUBLIC: State burial for African emperor Bokassa cancelled. BANGUI 1996-12-04', '143 INDIA: Mother Teresa seeks foster homes for 4,000 children. CALCUTTA 1996-12-05', '144 USA: Abortion foe Salvi buried, victim attends funeral. IPSWICH, Mass 1996-12-04', '145 ITALY: Nobel laureate Belo says peace will be his message. ROME 1996-12-06', '146 VIETNAM: Hanoi declares dissident temple a national site. HANOI 1996-12-06', '147 GREECE: SALONIKA TO SHOW OFF BYZANTINE LEGACY IN 1997. SALONIKA, Greece 1996-12-08', '148 GREECE: SALONIKA TO SHOW OFF BYZANTINE LEGACY IN 1997. SALONIKA, Greece 1996-12-09', '149 RUSSIA: Cash-strapped Kremlin to start charging visitors. MOSCOW 1996-12-10', '150 VATICAN: Ageing Pope to skip Christmas Day mass this year. VATICAN CITY 1996-12-10', '151 NORWAY: East Timor activist shares peace prize. OSLO 1996-12-10', \"152 UK: FEATURE - Duke's reputation sinks 60 years after abdication. LONDON 1996-12-11\", \"153 SOUTH AFRICA: S.Africa's Boesak charged with theft of aid funds. CAPE TOWN 1996-12-13\", \"154 ITALY: Italy's Dossetti, political figure, dies. BOLOGNA, Italy 1996-12-15\", '155 GREECE: FEATURE - Salonika to show off Byzantine legacy in 1997. SALONIKA, Greece 1996-12-15', '156 NETHERLANDS: Hermitage treasures on show in Amsterdam. AMSTERDAM 1996-12-16', '157 RUSSIA: Russian Orthodox leader taken to hospital. MOSCOW 1996-12-18', '158 FRANCE: Bardot denies racism charge in Paris court. PARIS 1996-12-19', '159 FRANCE: Paris bids emotional farewell to Mastroianni. PARIS 1996-12-20', '160 ITALY: Italy says \"Ciao Marcello,\" thanks for sweet life. ROME 1996-12-20', '161 PERU: Peru rebel chief is angry, violent revolutionary. LIMA 1996-12-22', '162 CUBA: Santa Claus skips Cuba, at least officially. HAVANA 1996-12-23', '163 ISRAEL: Israel takes shine off Christmas in Bethlehem. BETHLEHEM, West Bank 1996-12-23', '164 RUSSIA: FEATURE - Moscow to celebrate 850th birthday in grand style. MOSCOW 1996-12-25', '165 UK: Fred West film plan angers British MPs, relatives. LONDON 1996-12-31', '166 INDIA: Israel president shrugs off illness. NEW DELHI 1996-12-31', '167 UK: Britain to review law after Fred West film plan. LONDON 1997-01-01', '168 UK: Britain to review law after Fred West film plan. LONDON 1997-01-01', '169 USA: Mother Teresa \"miracle\" bun takes to the Internet. NASHVILLE, Tenn. 1997-01-03', \"170 SWEDEN: Sweden's honourable Prince Bertil dies, aged 84. STOCKHOLM 1997-01-05\", \"171 SWEDEN: Sweden's Prince Bertil dies. STOCKHOLM 1997-01-05\", \"172 RUSSIA: Kremlin slams report on return of Tsar's heir. MOSCOW 1997-01-06\", '173 RUSSIA: Yeltsin spends Russian Christmas in bed with cold. MOSCOW 1997-01-07', '174 SOUTH KOREA: Under plastic awning, veteran newsman leads strikes. SEOUL 1997-01-07', '175 RUSSIA: FEATURE - Russian historian seeks real Stalin behind myth. MOSCOW 1997-01-09', '176 GERMANY: Hollywood stars blast Germany over Scientologists. BONN 1997-01-09', \"177 Germany: Kohl dismisses Hollywood stars' rebuke of Germany. BONN 1997-01-09\", '178 UK: Buckingham Palace to campaign for Charles as king. LONDON 1997-01-09', \"179 CANADA: FEATURE-Canada's Ben Heppner -- the Fourth Tenor?. OTTAWA 1997-01-10\", \"180 GERMANY: Germany rebuffs stars' accusations over Scientology. BONN 1997-01-10\", \"181 RUSSIA: FEATURE - Russian artists say forging evidence is kids' stuff. MOSCOW 1997-01-12\", '182 USA: Houston moves to rein in topless nightclubs. HOUSTON 1997-01-12', '183 SWEDEN: Sweden, European royalty mourn Prince Bertil. STOCKHOLM 1997-01-13', '184 GERMANY: German Jewish leader slams Scientology letter. FRANKFURT 1997-01-13', '185 PHILIPPINES: FEATURE - Festivals bring buried Philippine towns back to life. ANGELES CITY, Philippines 1997-01-13', '186 SWEDEN: European royalty join Sweden to mourn Prince Bertil. STOCKHOLM 1997-01-13', '187 AUSTRALIA: RTRS-TIMELINES-Today in History - Jan 15.', '188 DENMARK: Danish queen mourns, marks 25 years as monarch. COPENHAGEN 1997-01-14', \"189 SOUTH AFRICA: S.Africa's moral conscience, Tutu, battles cancer. JOHANNESBURG 1997-01-17\", '190 USA: Debate over King legacy dampens Atlanta festivities. ATLANTA 1997-01-19', '191 USA: Church marks legacy of Martin Luther King Jr.. ATLANTA 1997-01-20', '192 USA: U.S. Sen. Tsongas to be buried on Thursday. LOWELL, Mass 1997-01-19', '193 USA: Friends line up to pay respects to Tsongas. LOWELL, Mass. 1997-01-21', '194 USA: John Phillips dies, ex-First Boston muni official. NEW YORK 1997-01-22', \"195 FRANCE: France's Bardot cleared of racist slur. PARIS 1997-01-23\", \"196 LIBERIA: Liberia's Taylor remarries, offers toast for peace. GBANGA, Liberia 1997-01-28\", '197 TAIWAN: Taiwan president soul-searches with Hollywood hunk. TAIPEI 1997-01-29', '198 COLOMBIA: Gays beat Church ban, parade in Colombian carnival. BOGOTA 1997-02-02', '199 FRANCE: U.S. ambassador to France has brain haemorrhage. PARIS 1997-02-04', '200 GERMANY: Berlin festival quells Scientology boycott fears. BERLIN 1997-02-04', '201 USA: U.S. envoy to France seriously ill. WASHINGTON 1997-02-03', '202 USA: U.S. envoy to France said to be near death. WASHINGTON 1997-02-03', '203 FRANCE: U.S. Paris envoy Harriman in serious condition. PARIS 1997-02-04', '204 FRANCE: U.S. ambassador to France has brain haemorrhage. PARIS 1997-02-04', '205 FRANCE: U.S. ambassador to France ill in hospital. PARIS 1997-02-04', '206 USA: Pamela Harriman eulogized by Clinton, Democrats. WASHINGTON 1997-02-05', '207 USA: Clinton, Democrats laud Pamela Harriman. WASHINGTON 1997-02-05', '208 FRANCE: U.S. envoy Pamela Harriman dies in Paris. PARIS 1997-02-05', \"209 FRANCE: Pamela Harriman's life a mix of wealth and power. PARIS 1997-02-05\", '210 USA: Clinton lauds Harriman as gifted public servant. WASHINGTON 1997-02-05', \"211 USA: O.J. Simpson's incredible reversal of fortune. SANTA MONICA, Calif. 1997-02-04\", '212 FRANCE: U.S. ambassador to Paris Harriman dead at 76. PARIS 1997-02-05', '213 FRANCE: Pamela Harriman, U.S. envoy to France, dead at 76. PARIS 1997-02-05', '214 FRANCE: U.S. ambassador to France condition still serious. PARIS 1997-02-05', '215 FRANCE: Chirac to honour late U.S. envoy Pamela Harriman. PARIS 1997-02-06', '216 USA: FEATURE - Marsalis conjures soul from slavery. NEW YORK 1997-02-06', '217 UK: Oasis singer Liam Gallagher set to marry next week. LONDON 1997-02-06', \"218 USA: Harriman's body returned to Washington. WASHINGTON 1997-02-08\", '219 SWITZERLAND: FEATURE - Troubleshooting Swiss diplomat keeps low profile. BERNE 1997-02-12', '220 USA: Clinton recalls Harriman as elegant, indomitable. WASHINGTON 1997-02-13', '221 USA: Funeral for baby allegedly killed by British nanny. BROOKLINE, Mass. 1997-02-12', '222 VATICAN: Historian of Vatican policy towards Nazis dies. VATICAN CITY 1997-02-14', '223 UK: UK watchdog halts ads over epileptic seizure risk. LONDON 1997-02-14', \"224 PHILIPPINES: Air crash follows bishop's funeral in Philippines. JOLO, Philippines 1997-02-14\", '225 HONG KONG: China, Taiwan, HK stocks rocked by Deng worries. HONG KONG 1997-02-18', '226 UK: Albright looks back to war years on London visit. LONDON 1997-02-19', '227 USA: Harriman son, estranged wife inherit - report. WASHINGTON 1997-02-18', '228 FRANCE: French judges refuse to ban \"Larry Flynt\" posters. PARIS 1997-02-20', \"229 GERMANY: Bavarians outraged at exhibition on Hitler's army. MUNICH, Germany 1997-02-20\", '230 SWITZERLAND: Swiss bishops blast Larry Flynt film poster. ZURICH 1997-02-21', '231 ROMANIA: Romania king, citizenship restored, to visit home. BUCHAREST 1996-02-24', '232 CHINA: China Catholics pray for Deng as church silent. BEIJING 1997-02-23', '233 ROMANIA: Romania flashy \"Gypsy King\" dies of heart attack. BUCHAREST 1997-02-24', '234 USA: Rev. Benjamin Chavis joins Farrakhan group. CHICAGO 1997-02-24', '235 INDIA: Mother Teresa succession vote soon, order says. CALCUTTA, India 1997-02-24', '236 INDIA: Mother Teresa succession vote imminent, order says. CALCUTTA, India 1997-02-24', '237 GERMANY: \"English Patient\" favourite for Berlin Golden Bear. BERLIN 1997-02-24', '238 FRANCE: Berlin-winner Forman drops Larry Flynt poster. PARIS 1997-02-24', \"239 GERMANY: Bavarians protest against exhibit on Hitler's army. MUNICH, Germany 1997-01-24\", '240 GERMANY: \"English Patient\" tipped for Berlin festival prize. BERLIN 1997-02-24', '241 ROMANIA: Romanians honour memory of Gypsy King. SIBIU, Romania 1997-02-26', '242 ROMANIA: Romania to use King as envoy to boost NATO chances. BUCHAREST 1997-02-26', '243 ITALY: Sicily archbishop on trial for corruption, EU fraud. PALERMO, Sicily 1997-02-26', \"244 VATICAN: St Peter's in Rome to get facelift for 2000. VATICAN CITY 1997-02-27\", \"245 ROMANIA: Romania's exiled king backs reforms. BUCHAREST 1997-03-01\", '246 ROMANIA: Small crowds greet Romanian king, patriarch. BUCHAREST 1997-03-02', '247 USA: Forbes seeks to shape U.S. agenda, could run again. NEW YORK 1997-03-04', '248 INDIA: Mother Teresa successor vote soon - church official. CALCUTTA 1997-03-04', '249 POLAND: Polish bishops condemn Larry Flynt film poster. WARSAW 1997-03-05', '250 USA: Ex-president Reagan, wife mark 45th anniversary. LOS ANGELES 1997-03-04', '251 BULGARIA: Bulgarian patriarch vows to stay on despite ruling. SOFIA 1997-03-06', \"252 INDIA: Nuns to elect Mother Teresa's successor any day. CALCUTTA 1997-03-06\", '253 UK: UK Cardinal offers cash help to women not to abort. GLASGOW, Scotland 1997-03-09', \"254 UK: Charles and Diana reunited for son's confirmation. LONDON 1997-03-09\", \"255 INDIA: Mother Teresa's order grappling with succession. CALCUTTA, India 1997-03-09\", \"256 RUSSIA: FEATURE - Russians still squabbling over tsar's bones. YEKATERINBURG, Russia 1997-03-10\", \"257 USA: Pamela Harriman's estate to be auctioned off. NEW YORK 1997-03-11\", '258 USA: FEATURE-Grammy Winner Brecker owes it all to Philadelphia. PHILADELPHIA 1997-03-11', '259 INDIA: Hindu Brahmin convert to succeed Mother Teresa. CALCUTTA, India 1997-03-13', \"260 INDIA: Shy nun emerges from Mother Teresa's shadow. CALCUTTA, India 1997-03-13\", \"261 GERMANY: German home of 'lost Gospel' may hold other finds. BERLIN 1997-03-13\", '262 SPAIN: FEATURE - Spanish fiestas stir animal groups into fury. MANGANESES DE LA POLVOROSA, Spain 1997-03-13', \"263 INDIA: Mother Teresa's successor faces bumpy start. CALCUTTA, India 1997-03-16\", '264 SLOVAKIA: SLOVAK STUDENTS PRESS FOR MINISTER TO QUIT. BRATISLAVA 1997-03-17', '265 JAMAICA: Former Jamaica prime minister Manley laid to rest. KINGSTON, Jamaica 1997-03-16', '266 UK: FEATURE-Maverick Leigh strikes blow for independent film makers. LONDON 1997-03-17', '267 USA: Fans swarm New York procession for slain rapper. NEW YORK 1997-03-18', '268 USA: Hundreds swarm New York motorcade for slain rapper. NEW YORK 1997-03-18', '269 USA: FEATURE - John Tesh - music is entertainment tonight. LOS ANGELES 1997-03-18', \"270 UK: Thatcher's archive to go to Churchill College. LONDON 1997-03-18\", '271 EGYPT: Egypt moves ahead with church restoration project. CAIRO 1997-03-18', '272 PHILIPPINES: Ramos says N.Korean defector in Philppines for short time. MANILA 1997-03-19', '273 UK: Archbishop of Canterbury speaks of retiring. LONDON 1997-03-20', '274 ZIMBABWE: Mrs Clinton sees Zimbabwe efforts to help people. HARARE, Zimbabwe 1997-03-22', '275 ITALY: Dutch-Flemish show goes to roots of modern art. VENICE, Italy 1997-03-23', '276 USA: Clinton adjusts to slower-paced life. WASHINGTON 1997-03-25', '277 RUSSIA: Lenin niece opposes re-burial of Communist leader. MOSCOW 1997-03-26', \"278 INDONESIA: Seventeen detained after riot on Indonesia's Java. JAKARTA 1997-03-27\", '279 VENEZUELA: FEATURE-Andean hermit acrobat wins artist fame. SAN RAFAEL DE MUCUCHIES, Venezuela 1997-04-01', '280 VATICAN: FEATURE - Pope marks 19th Easter season looking tired, frail. VATICAN CITY 1997-04-01', \"281 PORTUGAL: FEATURE - Portugal's Cinderella city gets its reward.\", '282 FRANCE: Christian Dior denies rupture with actress Beart. PARIS 1997-04-03', '283 SPAIN: Spanish princess to wed handball player - reports. MADRID 1997-04-03', '284 UK: Defiant Princess Anne to return for Grand National. LIVERPOOL, England 1997-04-07', '285 USA: Writer Patricia Cornwell admits lesbian affair. [CORRECTED 21:20 GMT]. NEW YORK 1997-04-08', \"286 USA: Joe Kennedy's ex-wife to appeal annulment - report. BOSTON 1997-04-08\", '287 USA: Ex-wife of US Sen. Kerry fights annulment - report. BOSTON 1997-04-10', '288 RUSSIA: Top Russian official meets royal relative. MOSCOW 1997-04-12', '289 USA: Farrakhan blames Catholics Church for hate crimes. [CORRECTED 21:48 GMT] WASHINGTON 1997-04-13', \"290 AUSTRALIA: RTRS-Australia's Colston released from hospital. BRISBANE 1996-04-17\", '291 UK: FEATURE - Britain hosts major Thomas Becket exhibition. CANTERBURY, England 1997-04-20', '292 USA: Brooke Shields and Andre Agassi marry. MONTEREY, Calif. 1997-04-19', \"293 UK: China's HK General perfect choice, says tutor. LONDON 1997-04-22\", '294 USA: U.S. Christian Coalition leader to step down. [CORRECTED 18:19 GMT] WASHINGTON 1997-04-23', '295 USA: Ralph Reed steps down from U.S. Christian Coalition. WASHINGTON 1997-04-23', '296 EGYPT: U.S. pilot heads to Asia on Earhart tribute trip. LUXOR, Egypt 1997-04-24', '297 USA: Alabama judge wins Kennedy \"Courage\" award. BOSTON 1997-04-24', '298 PHILIPPINES: Philippines buries Marcos predecessor Macapagal. MANILA 1997-04-27', \"299 USA: 'Ellen' comes out, gays across U.S. celebrate. MIAMI 1997-05-01\", \"300 USA: 'Ellen' comes out, gays across U.S. celebrate. MIAMI 1997-04-30\", '301 UK: Worldwide Advertising & Media Digest - May 2.', '302 UK: Ex-wife of Yorkshire Ripper weds again in Britain. LONDON 1997-05-03', '303 NEW ZEALAND: Former NZ Social Credit leader Bruce Beetham dies.', '304 ITALY: Italy unveils plan to protect art treasures. ROME 1997-05-03', '305 UK: Eurosceptic Redwood bids to lead UK Conservatives. LONDON 1997-05-06', \"306 GERMANY: Germany's Herzog urges Europeans to back unity. AACHEN, Germany 1997-05-08\", '307 USA: American civil rights leader to be buried in Harlem. NEW YORK 1997-05-08', '308 USA: Kempton honored by New York writers, mayor. NEW YORK 1997-05-08', '309 VATICAN: Glamorous ex-model swaps catwalk for convent. VATICAN CITY 1997-05-09', '310 RUSSIA: Russian parliament votes no changes to Red Square. MOSCOW 1997-05-14', '311 AUSTRIA: FEATURE - \"Sound of Music\" makes Austrian cash tills ring. SALZBURG, Austria 1997-05-16', '312 AUSTRALIA: TIMELINES-Today in History - May 19.', '313 ITALY: Pope, on birthday, says wants to live to 100. ROME 1997-05-18', \"314 USA: Pamela Harriman's estate goes on sale. [CORRECTED 22:43 GMT] NEW YORK 1997-05-19\", '315 USA: Stallone married in London, publicist confirms. LOS ANGELES 1997-05-19', '316 UK: Germans ran systematic wartime plunder campaign. LONDON 1997-05-19', '317 USA: Harriman auction continues to bring high prices. NEW YORK 1997-05-20', '318 MEXICO: Mexico bids awkward farewell to controversial cleric. MEXICO CITY 1997-05-21', '319 USA: Notebook contains early Lennon-McCartney tunes. NEW YORK 1997-05-21', '320 USA: Harriman auction continues to bring high prices. NEW YORK 1997-05-20', '321 ITALY: Healthy looking Mother Teresa initiates new nuns. ROME 1997-05-23', '322 USA: Mother Teresa in New York to initiate new nuns. NEW YORK 1997-05-26', '323 USA: Leona Helmsley makes $1 million donation. NEW YORK 1997-05-28', '324 USA: Alabama judge accepts Kennedy \"Courage\" award. BOSTON 1997-05-29', '325 RUSSIA: Would-be Russian tsar to return for family ceremony. MOSCOW 1997-05-30', '326 POLAND: Pope in Poland tries to allay health concerns. WROCLAW, Poland 1996-06-02', '327 UK: Britain plans glittering royal golden wedding. LONDON 1997-06-04', '328 FRANCE: Vaillant gets loyalty reward in French cabinet post. PARIS 1997-06-04', '329 POLAND: POPE TAKES HELICOPTER TRIP ON REST DAY. ZAKOPANE, Poland 1997-06-05', '330 POLAND: Pope takes helicopter trip over beloved mountains. ZAKOPANE, Poland 1997-06-05', '331 POLAND: Pope rests at halfway mark as Poles mull message. ZAKOPANE, Poland 1997-06-05', '332 POLAND: Pope has moving reunion with with old schoolmates. ZAKOPANE, Poland 1997-06-06', '333 UK: Oasis songwriter Noel Gallagher weds in Las Vegas. LONDON 1997-06-07', '334 POLAND: Pope gives thanks for surviving assassination bid. ZAKOPANE, Poland 1997-06-07', '335 POLAND: Pope emotionally recalls assassination attempt. ZAKOPANE, Poland 1997-06-07', \"336 POLAND: Pope to spend few moments at parents' grave. KRAKOW, Poland 1996-06-09\", \"337 POLAND: Pope spends moments of silence at parents' grave. KRAKOW, Poland 1997-06-09\", '338 POLAND: Poles flock to big mass on last day of Papal visit. KROSNO, Poland 1997-06-10', \"339 ITALY: Mussolini descendants gather for son's funeral. ROME 1997-06-14\", '340 ISRAEL: Sinead quits Jerusalem concert after death threats. JERUSALEM 1997-06-16', '341 USA: U.S. church boycotts \"Gay friendly\" Disney. DALLAS 1997-06-18', \"342 RUSSIA: Russia's Patriarch urges caution on Lenin removal. MOSCOW 1997-06-19\", '343 GERMANY: Fragments of rare Gutenberg bible found in Germany. BONN 1997-06-20', \"344 UK: UK ex-minister quits as Queen's adviser - reports. LONDON 1997-06-25\", '345 GERMANY: Boris Becker threatens Scientology over Internet. BONN 1997-06-27', \"346 CHINA: China's top Catholic church official dies at 80. BEIJING 1997-06-28\", '347 UK: Westminster Abbey to charge entry fee - paper. LONDON 1997-06-29', '348 UK: Freemasons launch magazine to improve image. LONDON 1997-07-01', '349 UK: FEATURE-Orange and Green, the colours of N.Ireland conflict. BELFAST 1997-07-02', '350 COLOMBIA: Colombia recovers church art worth $1.5 million. BOGOTA 1997-07-03', \"351 UK: Rare show of sympathy for UK's royal mistress. LONDON 1997-07-07\", '352 USA: Hollywood bids farewell to actor Jimmy Stewart. BEVERLY HILLS, Calif. 1997-07-07', '353 ITALY: Pope begins private mountain retreat in Italy Alps. INTROD, Italy 1997-07-09', '354 UK: FEATURE - UK royals try to relaunch after decade \"horribilis\". LONDON 1997-07-10', '355 USA: Black church leader denies affair. ST. PETERSBURG, Fla. 1997-07-11', '356 ALBANIA: FEATURE - Albania violence threatens treasured ancient city. BUTRINT, Albania 1997-07-13', '357 ITALY: Jovial Pope seems invigorated by mountain break. LES COMBES, Italy 1997-07-13', \"358 UK: Churchill's World War One letters up for auction. LONDON 1997-07-16\", '359 UK: Prince Charles holds 50th bash for lover Camilla. LONDON 1997-07-16', '360 GERMANY: Russian minister criticises Bonn on art booty. BONN 1997-07-16', '361 UK: Churchill letters sell for three times estimate. LONDON 1997-07-17', '362 USA: Miami police probe new killing, Versace cremated. MIAMI 1997-07-17', '363 USA: Versace ashes to be flown to Italy Thursday. MIAMI 1997-07-17', '364 ISRAEL: FEATURE - Despite Vanunu, no nuclear debate in Israel. JERUSALEM 1997-07-17', '365 USA: Miami Beach bids farewell to Versace. MIAMI BEACH, Fla. 1997-07-18', '366 ITALY: Lakeside villa was hideaway for glamorous Versace. MOLTRASIO, Italy 1997-07-18', '367 USA: Miami Beach bids farewell to Versace. MIAMI BEACH, Fla. 1997-07-18', \"368 USA: Clinton will speak at Arkansas friend's funeral. HARRISON, Ark 1997-07-18\", '369 USA: Versace service set; new murder seen as unrelated. MIAMI BEACH 1997-07-18', '370 UK: Camilla steps out of shadows as royal lover. LONDON 1997-07-19', '371 INDIA: Mother Teresa returns, pleased with foreign trip. NEW DELHI 1997-07-20', '372 VIETNAM: Senior Vietnam Buddhist dies. HANOI 1997-07-21', '373 RUSSIA: Yeltsin revels in good health, backs new reforms. MOSCOW 1997-07-23', '374 PHILIPPINES: Aunt calls Versace killer \"nice, quiet boy\". BALIUAG, Philippines 1997-07-24', '375 VIETNAM: Thousands mourn death of top Vietnam Buddhist. HO CHI MINH CITY, Vietnam 1997-07-25', \"376 UK: UK's Blair says Charles can wed Camilla - report. LONDON 1997-07-27\", \"377 UK: UK's Blair dismisses Charles and Camilla reports. LONDON 1997-07-28\", \"378 USA: Clinton delivers eulogy at Brennan's funeral. WASHINGTON 1997-07-29\", '379 USA: California memorial service held for Andrew Cunanan. SAN DIEGO 1997-07-30', \"380 CROATIA: Croatia's Tudjman sworn in for second 5-year term. ZAGREB 1997-08-05\", '381 USA: Former FBI Director Clarence Kelley dies at 85. KANSAS CITY, Mo. 1997-08-05', '382 UK: Most Britons oppose idea of \"Queen Camilla\"-poll. LONDON 1997-08-06', '383 USA: Clarence Kelley, former FBI director, dies at 85. KANSAS CITY, Mo 1997-08-05', '384 UK: Britain\\'s \"top people\" back Charles marrying - poll. LONDON 1997-08-06', \"385 UK: Scotland kicks off world's biggest arts festival. EDINBURGH 1997-08-10\", '386 UK: Fringe chases audiences in Edinburgh festival month. EDINBURGH 1996-08-12', '387 USA: Even in death, Elvis lives. LOS ANGELES 1997-08-11', '388 USA: EVEN IN DEATH, ELVIS LIVES. LOS ANGELES 1997-08-11', '389 USA: EVEN IN DEATH, ELVIS LIVES. LOS ANGELES 1997-08-11', '390 CANADA: FEATURE - French-speaking Quebec celebrates Irish heritage. QUEBEC CITY 1997-08-14', '391 BULGARIA: FEATURE - Bulgarian opera stars are enduring export. SOFIA 1997-08-15', '392 USA: Fans end Elvis Presley fete with concert. MEMPHIS, Tenn 1997-08-16', '393 UK: Volcano buries studio where rock legends recorded. LONDON 1997-08-18', '394 USA: Joseph Vostal, ex-Kidder muni banker, dead at 88. NEW YORK 1997-08-18')\n"
     ]
    }
   ],
   "source": [
    "print titles"
   ]
  },
  {
   "cell_type": "code",
   "execution_count": null,
   "metadata": {
    "collapsed": true
   },
   "outputs": [],
   "source": []
  },
  {
   "cell_type": "code",
   "execution_count": 97,
   "metadata": {
    "collapsed": true
   },
   "outputs": [],
   "source": [
    "doc_a = \"Brocolli is good to eat. My brother likes to eat good brocolli, but not my mother.\"\n",
    "doc_b = \"My mother spends a lot of time driving my brother around to baseball practice.\"\n",
    "doc_c = \"Some health experts suggest that driving may cause increased tension and blood pressure.\"\n",
    "doc_d = \"I often feel pressure to perform well at school, but my mother never seems to drive my brother to do better.\"\n",
    "doc_e = \"Health professionals say that brocolli is good for your health.\"\n",
    "\n",
    "doc_set = [doc_a, doc_b, doc_c, doc_d, doc_e]"
   ]
  },
  {
   "cell_type": "code",
   "execution_count": 8,
   "metadata": {
    "collapsed": false
   },
   "outputs": [],
   "source": [
    "import nltk\n",
    "from nltk.tokenize import RegexpTokenizer\n",
    "tokenizer = RegexpTokenizer(r'\\w+')"
   ]
  },
  {
   "cell_type": "code",
   "execution_count": 9,
   "metadata": {
    "collapsed": false
   },
   "outputs": [
    {
     "name": "stdout",
     "output_type": "stream",
     "text": [
      "['brocolli', 'is', 'good', 'to', 'eat', 'my', 'brother', 'likes', 'to', 'eat', 'good', 'brocolli', 'but', 'not', 'my', 'mother']\n"
     ]
    }
   ],
   "source": [
    "raw = doc_a.lower()\n",
    "tokens = tokenizer.tokenize(raw)\n",
    "print tokens"
   ]
  },
  {
   "cell_type": "code",
   "execution_count": 10,
   "metadata": {
    "collapsed": false
   },
   "outputs": [],
   "source": [
    "from stop_words import get_stop_words\n",
    "en_stop = get_stop_words('en')"
   ]
  },
  {
   "cell_type": "code",
   "execution_count": 11,
   "metadata": {
    "collapsed": false
   },
   "outputs": [
    {
     "name": "stdout",
     "output_type": "stream",
     "text": [
      "['brocolli', 'good', 'eat', 'brother', 'likes', 'eat', 'good', 'brocolli', 'mother']\n"
     ]
    }
   ],
   "source": [
    "stopped_tokens = [i for i in tokens if not i in en_stop]\n",
    "print stopped_tokens"
   ]
  },
  {
   "cell_type": "code",
   "execution_count": 12,
   "metadata": {
    "collapsed": true
   },
   "outputs": [],
   "source": [
    "from nltk.stem.porter import PorterStemmer\n",
    "\n",
    "# Create p_stemmer of class PorterStemmer\n",
    "p_stemmer = PorterStemmer()"
   ]
  },
  {
   "cell_type": "code",
   "execution_count": 16,
   "metadata": {
    "collapsed": false
   },
   "outputs": [
    {
     "name": "stdout",
     "output_type": "stream",
     "text": [
      "['brocolli', 'good', 'eat', 'brother', u'like', 'eat', 'good', 'brocolli', 'mother']\n"
     ]
    }
   ],
   "source": [
    "# stem token\n",
    "texts = [p_stemmer.stem(i) for i in stopped_tokens]\n",
    "print texts"
   ]
  },
  {
   "cell_type": "code",
   "execution_count": 18,
   "metadata": {
    "collapsed": false
   },
   "outputs": [],
   "source": [
    "from nltk.tokenize import RegexpTokenizer\n",
    "from stop_words import get_stop_words\n",
    "from nltk.stem.porter import PorterStemmer\n",
    "from gensim import corpora, models\n",
    "import gensim\n",
    "\n",
    "tokenizer = RegexpTokenizer(r'\\w+')\n",
    "\n",
    "# create English stop words list\n",
    "en_stop = get_stop_words('en')\n",
    "\n",
    "# Create p_stemmer of class PorterStemmer\n",
    "p_stemmer = PorterStemmer()\n",
    "    \n",
    "# create sample documents\n",
    "doc_a = \"Brocolli is good to eat. My brother likes to eat good brocolli, but not my mother.\"\n",
    "doc_b = \"My mother spends a lot of time driving my brother around to baseball practice.\"\n",
    "doc_c = \"Some health experts suggest that driving may cause increased tension and blood pressure.\"\n",
    "doc_d = \"I often feel pressure to perform well at school, but my mother never seems to drive my brother to do better.\"\n",
    "doc_e = \"Health professionals say that brocolli is good for your health.\" \n",
    "\n",
    "# compile sample documents into a list\n",
    "doc_set = [doc_a, doc_b, doc_c, doc_d, doc_e]\n",
    "\n",
    "# list for tokenized documents in loop\n",
    "texts = []\n",
    "\n",
    "# loop through document list\n",
    "for i in doc_set:\n",
    "    \n",
    "    # clean and tokenize document string\n",
    "    raw = i.lower()\n",
    "    tokens = tokenizer.tokenize(raw)\n",
    "\n",
    "    # remove stop words from tokens\n",
    "    stopped_tokens = [i for i in tokens if not i in en_stop]\n",
    "    \n",
    "    # stem tokens\n",
    "    stemmed_tokens = [p_stemmer.stem(i) for i in stopped_tokens]\n",
    "    \n",
    "    # add tokens to list\n",
    "    texts.append(stemmed_tokens)\n",
    "\n",
    "# turn our tokenized documents into a id <-> term dictionary\n",
    "dictionary = corpora.Dictionary(texts)\n",
    "    \n",
    "# convert tokenized documents into a document-term matrix\n",
    "corpus = [dictionary.doc2bow(text) for text in texts]\n",
    "\n",
    "# generate LDA model\n",
    "ldamodel = gensim.models.ldamodel.LdaModel(corpus, num_topics=2, id2word = dictionary, passes=20)"
   ]
  },
  {
   "cell_type": "code",
   "execution_count": 20,
   "metadata": {
    "collapsed": false
   },
   "outputs": [
    {
     "name": "stdout",
     "output_type": "stream",
     "text": [
      "Dictionary(32 unique tokens: [u'often', u'feel', u'profession', u'drive', u'say']...)\n"
     ]
    }
   ],
   "source": [
    "print dictionary"
   ]
  },
  {
   "cell_type": "code",
   "execution_count": 21,
   "metadata": {
    "collapsed": false
   },
   "outputs": [
    {
     "name": "stdout",
     "output_type": "stream",
     "text": [
      "[[(0, 2), (1, 2), (2, 1), (3, 1), (4, 1), (5, 2)], [(3, 1), (4, 1), (6, 1), (7, 1), (8, 1), (9, 1), (10, 1), (11, 1), (12, 1)], [(8, 1), (13, 1), (14, 1), (15, 1), (16, 1), (17, 1), (18, 1), (19, 1), (20, 1), (21, 1)], [(3, 1), (4, 1), (8, 1), (18, 1), (22, 1), (23, 1), (24, 1), (25, 1), (26, 1), (27, 1), (28, 1), (29, 1)], [(0, 1), (1, 1), (19, 2), (30, 1), (31, 1)]]\n"
     ]
    }
   ],
   "source": [
    "print corpus"
   ]
  },
  {
   "cell_type": "code",
   "execution_count": 22,
   "metadata": {
    "collapsed": false
   },
   "outputs": [
    {
     "name": "stdout",
     "output_type": "stream",
     "text": [
      "LdaModel(num_terms=32, num_topics=2, decay=0.5, chunksize=2000)\n"
     ]
    }
   ],
   "source": [
    "print ldamodel"
   ]
  },
  {
   "cell_type": "code",
   "execution_count": null,
   "metadata": {
    "collapsed": true
   },
   "outputs": [],
   "source": []
  },
  {
   "cell_type": "code",
   "execution_count": null,
   "metadata": {
    "collapsed": true
   },
   "outputs": [],
   "source": []
  },
  {
   "cell_type": "code",
   "execution_count": null,
   "metadata": {
    "collapsed": true
   },
   "outputs": [],
   "source": []
  },
  {
   "cell_type": "code",
   "execution_count": null,
   "metadata": {
    "collapsed": true
   },
   "outputs": [],
   "source": []
  },
  {
   "cell_type": "code",
   "execution_count": null,
   "metadata": {
    "collapsed": true
   },
   "outputs": [],
   "source": []
  },
  {
   "cell_type": "code",
   "execution_count": null,
   "metadata": {
    "collapsed": true
   },
   "outputs": [],
   "source": []
  },
  {
   "cell_type": "code",
   "execution_count": null,
   "metadata": {
    "collapsed": true
   },
   "outputs": [],
   "source": []
  },
  {
   "cell_type": "code",
   "execution_count": 85,
   "metadata": {
    "collapsed": true
   },
   "outputs": [],
   "source": [
    "import numpy as np\n",
    "from nltk.tokenize import RegexpTokenizer\n",
    "\n",
    "doc_set = [doc_a, doc_b, doc_c, doc_d, doc_e]\n",
    "\n",
    "\n",
    "V = 10\n",
    "K = 10\n",
    "M = 10\n",
    "N = 10\n",
    "z = np.zeros((M, N))\n",
    "doc = np.zeros((M,N))\n",
    "\n",
    "nmk = np.zeros((M,K))\n",
    "nkt = np.zeros((K,V))\n",
    "nmkSum = np.zeros(M)\n",
    "nktSum = np.zeros(K)\n",
    "phi = np.zeros((K,V))\n",
    "theta = np.zeros((M,K))\n",
    "\n",
    "iteration = 100\n",
    "saveStep = 20\n",
    "beginSaveIters = 5\n",
    "\n",
    "alpha = 3\n",
    "beta = 3"
   ]
  },
  {
   "cell_type": "code",
   "execution_count": 77,
   "metadata": {
    "collapsed": false
   },
   "outputs": [
    {
     "name": "stdout",
     "output_type": "stream",
     "text": [
      "['Brocolli is good to eat. My brother likes to eat good brocolli, but not my mother.', 'My mother spends a lot of time driving my brother around to baseball practice.', 'Some health experts suggest that driving may cause increased tension and blood pressure.', 'I often feel pressure to perform well at school, but my mother never seems to drive my brother to do better.', 'Health professionals say that brocolli is good for your health.']\n"
     ]
    }
   ],
   "source": [
    "print doc_set"
   ]
  },
  {
   "cell_type": "code",
   "execution_count": 83,
   "metadata": {
    "collapsed": false
   },
   "outputs": [
    {
     "name": "stdout",
     "output_type": "stream",
     "text": [
      "[[ 3.  7.  7.  9.  9.  5.  2.  7.  7.  3.]\n",
      " [ 8.  5.  7.  5.  4.  4.  5.  3.  2.  5.]\n",
      " [ 0.  1.  1.  2.  1.  0.  7.  8.  2.  2.]\n",
      " [ 1.  4.  0.  2.  7.  3.  0.  0.  2.  8.]\n",
      " [ 9.  2.  8.  6.  7.  6.  7.  2.  1.  2.]\n",
      " [ 6.  4.  5.  8.  3.  5.  2.  2.  4.  3.]\n",
      " [ 1.  6.  8.  1.  8.  6.  7.  2.  3.  1.]\n",
      " [ 4.  7.  1.  1.  9.  0.  5.  1.  1.  6.]\n",
      " [ 5.  5.  1.  9.  6.  4.  5.  5.  9.  6.]\n",
      " [ 8.  0.  8.  8.  4.  8.  3.  1.  0.  9.]]\n"
     ]
    }
   ],
   "source": [
    "def initial():\n",
    "    global nmk\n",
    "    global nkt\n",
    "    global nmkSum\n",
    "    global nktSum\n",
    "    global phi\n",
    "    global theta\n",
    "    global z\n",
    "    global doc\n",
    "    \n",
    "    tokenizer = RegexpTokenizer(r'\\w+')\n",
    "    dict_ = {}\n",
    "#     for m in range(M):\n",
    "        \n",
    "    for m in range(M):\n",
    "        for n in range(N):\n",
    "            initTopic = int(random.random()*K)\n",
    "            z[m, n] = initTopic\n",
    "            nmk[m, initTopic] += 1\n",
    "            nkt[initTopic, doc[m, n]] += 1\n",
    "            nktSum[initTopic] += 1\n",
    "        nmkSum[m] = N\n",
    "    return\n",
    "\n",
    "initial()\n",
    "print z\n"
   ]
  },
  {
   "cell_type": "code",
   "execution_count": 94,
   "metadata": {
    "collapsed": true
   },
   "outputs": [],
   "source": [
    "def inference():\n",
    "    for i in range(iteration):\n",
    "        if (i-beginSaveIters) % saveStep == 0:\n",
    "            updateEstimatedParameters()\n",
    "        for m in range(M):\n",
    "            for n in range(N):\n",
    "                newTopic = sampleTopicZ(m,n)\n",
    "                z[m,n] = newTopic\n",
    "    return\n",
    "\n",
    "def sampleTopicZ(m,n):\n",
    "    # sample from p(z_i|z_-1, w) using Gibbs update rule\n",
    "    oldTopic = z[m,n]\n",
    "    nmk[m,oldTopic] -= 1\n",
    "    nkt[oldTopic, doc[m][n]] -= 1\n",
    "    nmkSum[m] -= 1\n",
    "    nktSum[oldTopic] -= 1\n",
    "    \n",
    "    # compute p(z_i ] k | z_-1, w)\n",
    "    p = np.zeros(K)\n",
    "    for k in range(K):\n",
    "        p[k] = ( nkt[k, doc[m,n]] + beta ) / ( nktSum[k] + V*beta ) * (nmk[m,k] + alpha) / (nmkSum[m] + k*alpha)\n",
    "        \n",
    "    # sample a new topic label for w_{m,n}\n",
    "    for k in range(K):\n",
    "        p[k] += p[k-1]\n",
    "    u = random.random() * p[k-1]\n",
    "    for newTopic in range(K):\n",
    "        if u < p[newTopic]:\n",
    "            break\n",
    "            \n",
    "    nmk[m, newTopic] += 1\n",
    "    nkt[newTopic, doc[m,n]] += 1\n",
    "    nmkSum[m] += 1\n",
    "    nktSum[newTopic] += 1\n",
    "    return newTopic\n",
    "\n",
    "def updateEstimatedParameters():\n",
    "    global phi\n",
    "    global theta\n",
    "    \n",
    "    for k in range(K):\n",
    "        for t in range(V):\n",
    "            phi[k,t] = (nkt[k,t] + beta) / (nktSum[k] + V*beta)\n",
    "            \n",
    "    for m in range(M):\n",
    "        for k in range(K):\n",
    "            theta[m,k] = (nmk[m,k] + alpha) / (nmkSum[m] + K*alpha)\n",
    "    \n",
    "    return"
   ]
  },
  {
   "cell_type": "code",
   "execution_count": null,
   "metadata": {
    "collapsed": true
   },
   "outputs": [],
   "source": []
  },
  {
   "cell_type": "code",
   "execution_count": 96,
   "metadata": {
    "collapsed": false
   },
   "outputs": [
    {
     "name": "stdout",
     "output_type": "stream",
     "text": [
      "[[ 1.425  0.1    0.075  0.1    0.125  0.075  0.075  0.075  0.125  0.075]\n",
      " [ 1.35   0.2    0.075  0.1    0.075  0.075  0.075  0.075  0.15   0.075]\n",
      " [ 1.4    0.225  0.1    0.075  0.075  0.075  0.075  0.075  0.075  0.075]\n",
      " [ 1.025  0.45   0.125  0.075  0.075  0.125  0.075  0.075  0.15   0.075]\n",
      " [ 1.35   0.2    0.15   0.075  0.075  0.1    0.075  0.075  0.075  0.075]\n",
      " [ 1.     0.375  0.2    0.1    0.075  0.075  0.125  0.075  0.15   0.075]\n",
      " [ 1.175  0.25   0.225  0.1    0.1    0.075  0.075  0.075  0.1    0.075]\n",
      " [ 1.05   0.475  0.175  0.075  0.075  0.075  0.075  0.075  0.1    0.075]\n",
      " [ 1.4    0.15   0.125  0.075  0.075  0.075  0.075  0.075  0.125  0.075]\n",
      " [ 1.325  0.125  0.175  0.1    0.075  0.075  0.075  0.075  0.15   0.075]]\n",
      "\n",
      "[[ 1.65   0.1    0.125  0.1    0.1    0.075  0.075  0.075  0.125  0.075]\n",
      " [ 1.55   0.225  0.1    0.1    0.075  0.075  0.075  0.075  0.15   0.075]\n",
      " [ 1.525  0.325  0.1    0.075  0.075  0.075  0.1    0.075  0.075  0.075]\n",
      " [ 1.1    0.625  0.175  0.075  0.075  0.1    0.075  0.075  0.125  0.075]\n",
      " [ 1.525  0.2    0.175  0.075  0.075  0.075  0.075  0.075  0.15   0.075]\n",
      " [ 1.325  0.35   0.15   0.1    0.075  0.075  0.125  0.075  0.15   0.075]\n",
      " [ 1.4    0.25   0.225  0.1    0.1    0.075  0.075  0.075  0.125  0.075]\n",
      " [ 1.025  0.75   0.15   0.075  0.075  0.075  0.075  0.075  0.125  0.075]\n",
      " [ 1.65   0.125  0.15   0.075  0.075  0.075  0.075  0.075  0.125  0.075]\n",
      " [ 1.55   0.175  0.125  0.1    0.075  0.075  0.1    0.075  0.15   0.075]]\n"
     ]
    }
   ],
   "source": [
    "print theta\n",
    "\n",
    "initial()\n",
    "inference()\n",
    "\n",
    "print\n",
    "print theta"
   ]
  },
  {
   "cell_type": "code",
   "execution_count": null,
   "metadata": {
    "collapsed": true
   },
   "outputs": [],
   "source": []
  },
  {
   "cell_type": "code",
   "execution_count": null,
   "metadata": {
    "collapsed": true
   },
   "outputs": [],
   "source": []
  },
  {
   "cell_type": "code",
   "execution_count": null,
   "metadata": {
    "collapsed": true
   },
   "outputs": [],
   "source": []
  },
  {
   "cell_type": "code",
   "execution_count": null,
   "metadata": {
    "collapsed": true
   },
   "outputs": [],
   "source": []
  },
  {
   "cell_type": "code",
   "execution_count": null,
   "metadata": {
    "collapsed": true
   },
   "outputs": [],
   "source": []
  },
  {
   "cell_type": "code",
   "execution_count": null,
   "metadata": {
    "collapsed": true
   },
   "outputs": [],
   "source": []
  },
  {
   "cell_type": "code",
   "execution_count": null,
   "metadata": {
    "collapsed": true
   },
   "outputs": [],
   "source": []
  },
  {
   "cell_type": "code",
   "execution_count": null,
   "metadata": {
    "collapsed": true
   },
   "outputs": [],
   "source": []
  },
  {
   "cell_type": "code",
   "execution_count": null,
   "metadata": {
    "collapsed": true
   },
   "outputs": [],
   "source": []
  }
 ],
 "metadata": {
  "kernelspec": {
   "display_name": "Python 2",
   "language": "python",
   "name": "python2"
  },
  "language_info": {
   "codemirror_mode": {
    "name": "ipython",
    "version": 2
   },
   "file_extension": ".py",
   "mimetype": "text/x-python",
   "name": "python",
   "nbconvert_exporter": "python",
   "pygments_lexer": "ipython2",
   "version": "2.7.6"
  }
 },
 "nbformat": 4,
 "nbformat_minor": 2
}
